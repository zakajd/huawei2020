{
 "cells": [
  {
   "cell_type": "markdown",
   "metadata": {
    "ExecuteTime": {
     "end_time": "2020-09-09T18:07:35.534005Z",
     "start_time": "2020-09-09T18:07:35.531570Z"
    }
   },
   "source": [
    "## Imports"
   ]
  },
  {
   "cell_type": "code",
   "execution_count": 1,
   "metadata": {
    "ExecuteTime": {
     "end_time": "2020-09-25T15:05:56.571957Z",
     "start_time": "2020-09-25T15:05:55.341887Z"
    }
   },
   "outputs": [],
   "source": [
    "import os\n",
    "import sys\n",
    "import pathlib\n",
    "\n",
    "import cv2\n",
    "import numpy as np\n",
    "import pandas as pd\n",
    "import torch\n",
    "import matplotlib.pyplot as plt\n",
    "\n",
    "import torchvision\n",
    "from tqdm.notebook import tqdm\n",
    "\n",
    "import matplotlib.pyplot as plt \n",
    "import albumentations as albu"
   ]
  },
  {
   "cell_type": "code",
   "execution_count": 2,
   "metadata": {
    "ExecuteTime": {
     "end_time": "2020-09-25T15:05:56.580457Z",
     "start_time": "2020-09-25T15:05:56.573935Z"
    }
   },
   "outputs": [
    {
     "data": {
      "text/html": [
       "<style>.container {width:100% !important;}</style>"
      ],
      "text/plain": [
       "<IPython.core.display.HTML object>"
      ]
     },
     "metadata": {},
     "output_type": "display_data"
    }
   ],
   "source": [
    "from IPython.core.display import display, HTML\n",
    "display(HTML(\"<style>.container {width:100% !important;}</style>\"))\n",
    "\n",
    "# Fix to be able to import python modules inside a notebook\n",
    "os.chdir('..')\n",
    "\n",
    "# Useful extensions\n",
    "# %load_ext watermark\n",
    "# %watermark -v -n -m -p numpy,torch,albumentations,photosynthesis_metrics\n",
    "\n",
    "# %load_ext autoreload\n",
    "# %autoreload 2\n",
    "\n",
    "# Nice plot formating\n",
    "%matplotlib inline"
   ]
  },
  {
   "cell_type": "code",
   "execution_count": 3,
   "metadata": {
    "ExecuteTime": {
     "end_time": "2020-09-25T15:05:56.716573Z",
     "start_time": "2020-09-25T15:05:56.581746Z"
    }
   },
   "outputs": [
    {
     "name": "stdout",
     "output_type": "stream",
     "text": [
      "configs  Makefile    preprocess.py  requirements.txt  train.py\r\n",
      "data\t notebooks   __pycache__    src\r\n",
      "logs\t predict.py  README.md\t    tmp.txt\r\n"
     ]
    }
   ],
   "source": [
    "!ls"
   ]
  },
  {
   "cell_type": "code",
   "execution_count": null,
   "metadata": {},
   "outputs": [],
   "source": []
  },
  {
   "cell_type": "markdown",
   "metadata": {},
   "source": [
    "# Diffusion"
   ]
  },
  {
   "cell_type": "code",
   "execution_count": 138,
   "metadata": {
    "ExecuteTime": {
     "end_time": "2020-09-22T16:35:23.516713Z",
     "start_time": "2020-09-22T16:35:23.512132Z"
    }
   },
   "outputs": [],
   "source": [
    "import faiss\n",
    "import numpy as np\n",
    "\n",
    "import os\n",
    "import time\n",
    "import argparse\n",
    "import pickle\n",
    "\n",
    "from sklearn.preprocessing import normalize\n",
    "\n",
    "import os\n",
    "import time\n",
    "import yaml\n",
    "import argparse\n",
    "from pathlib import Path\n",
    "\n",
    "import torch\n",
    "import numpy as np\n",
    "import pandas as pd\n",
    "from tqdm import tqdm\n",
    "# import pytorch_tools as pt\n",
    "from loguru import logger\n",
    "\n",
    "from src.datasets import get_val_dataloader, get_test_dataloader\n",
    "from src.callbacks import cmc_score_count, map_at_k\n",
    "from src.models import Model"
   ]
  },
  {
   "cell_type": "code",
   "execution_count": 222,
   "metadata": {
    "ExecuteTime": {
     "end_time": "2020-09-22T17:26:04.132175Z",
     "start_time": "2020-09-22T17:25:51.441314Z"
    }
   },
   "outputs": [
    {
     "name": "stderr",
     "output_type": "stream",
     "text": [
      "2020-09-22 20:26:04.127 | INFO     | __main__:<module>:13 - Validation query size - 1134, gallery size - 15522\n"
     ]
    }
   ],
   "source": [
    "# Test kNN and compare results with cdist search\n",
    "config_path = pathlib.Path(\"logs/genet_normal_384_hard_arcface80_15\")\n",
    "\n",
    "# Read DF\n",
    "df_val = pd.read_csv(config_path / \"train_val.csv\")\n",
    "val_embeddings = np.array(list(map(eval, df_val[\"embeddings\"].values)))\n",
    "query_mask = df_val[\"is_query\"].values.astype(np.bool)\n",
    "val_labels = df_val[\"label\"].values\n",
    "\n",
    "# Shape (n_embeddings, embedding_dim)\n",
    "query_embeddings, gallery_embeddings = val_embeddings[query_mask], val_embeddings[~query_mask]\n",
    "query_labels, gallery_labels = val_labels[query_mask], val_labels[~query_mask]\n",
    "logger.info(f\"Validation query size - {len(query_embeddings)}, gallery size - {len(gallery_embeddings)}\")\n",
    "del val_embeddings"
   ]
  },
  {
   "cell_type": "code",
   "execution_count": 162,
   "metadata": {
    "ExecuteTime": {
     "end_time": "2020-09-22T16:45:17.251214Z",
     "start_time": "2020-09-22T16:45:14.814874Z"
    }
   },
   "outputs": [
    {
     "name": "stderr",
     "output_type": "stream",
     "text": [
      "100%|██████████| 2/2 [00:00<00:00, 33.46it/s]\n",
      "2020-09-22 19:45:17.243 | INFO     | __main__:<module>:10 - Val: mAP@10 0.95448, mAP@R 0.94316\n"
     ]
    }
   ],
   "source": [
    "# Compare result of kNN and cdist\n",
    "knn = kNN(embeddings=gallery_embeddings, distance='cosine')\n",
    "distances, ids = knn.search(query_embeddings, topk=15522)\n",
    "distances = torch.tensor(distances)\n",
    "\n",
    "map10 = map_at_k_2(torch.tensor(ids), conformity_matrix, topk=10)\n",
    "mapR = map_at_k_2(torch.tensor(ids), conformity_matrix, topk=None)\n",
    "\n",
    "logger.info(\n",
    "    f\"Val: mAP@10 {map10:0.5f}, mAP@R {mapR:0.5f}\")"
   ]
  },
  {
   "cell_type": "code",
   "execution_count": 129,
   "metadata": {
    "ExecuteTime": {
     "end_time": "2020-09-22T16:30:54.932877Z",
     "start_time": "2020-09-22T16:30:54.927544Z"
    }
   },
   "outputs": [],
   "source": []
  },
  {
   "cell_type": "code",
   "execution_count": 1,
   "metadata": {
    "ExecuteTime": {
     "end_time": "2020-09-25T17:41:45.423167Z",
     "start_time": "2020-09-25T17:41:44.596233Z"
    }
   },
   "outputs": [],
   "source": [
    "\" diffusion module \"\n",
    "\n",
    "import os\n",
    "import numpy as np\n",
    "import scipy.sparse as sparse\n",
    "import scipy.sparse.linalg as linalg\n",
    "from tqdm import tqdm\n",
    "from sklearn import preprocessing\n",
    "\n",
    "from loguru import logger\n",
    "\n",
    "import multiprocessing\n",
    "import functools\n",
    "\n",
    "trunc_ids = None\n",
    "trunc_init = None\n",
    "lap_alpha = None\n",
    "\n",
    "\n",
    "def get_single_score(idx, truncation_size=5000):\n",
    "    \"\"\"Computes result for one image\n",
    "    Args: \n",
    "        idx\n",
    "        data (tuple): (idx,  trunc_ids[idx])\n",
    "\n",
    "    \"\"\"\n",
    "    # Move this to class? \n",
    "#     if idx == 0:\n",
    "#         print(trunc_ids[idx].shape, lap_alpha.shape, trunc_init[:10])\n",
    "    ids = trunc_ids[idx]\n",
    "    trunc_lap = lap_alpha[ids][:, ids]\n",
    "    scores, _ = linalg.cg(trunc_lap, trunc_init, tol=1e-6, maxiter=50)\n",
    "    return scores\n",
    "\n",
    "trunc_ids, trunc_init, lap_alpha = None, None, None\n",
    "\n",
    "\n",
    "class Diffusion:\n",
    "    \"\"\"Performse Diffusion\n",
    "    Args:\n",
    "        embeddings: Query and Gallery embedings concatenated\n",
    "        distance: Distance metric, one of {'cosine', 'euclidean'}\n",
    "        \n",
    "    Reference:\n",
    "        Efficient Image Retrieval via Decoupling Diffusion ...\n",
    "        https://arxiv.org/pdf/1811.10907.pdf\n",
    "        \n",
    "    \"\"\"\n",
    "    def __init__(self, embeddings, distance='cosine', gamma=3):\n",
    "        self.embeddings = embeddings\n",
    "        self.N = len(embeddings)\n",
    "        self.knn = kNN(self.embeddings, distance=distance)\n",
    "        \n",
    "        self.gamma = gamma\n",
    "\n",
    "    def get_offline_results(self, truncation_size=1000, kd=50):\n",
    "        \"\"\"Compute diffusion results for each gallery embedding\n",
    "        Args:\n",
    "            \n",
    "        \"\"\"\n",
    "        global trunc_ids, trunc_init, lap_alpha\n",
    "\n",
    "        logger.info(\"Searching neighbours\")\n",
    "        distances, ids = self.knn.search(self.embeddings, truncation_size)\n",
    "        # We measure cosine simmularity, but for diffusion metric should increase for not-simmilar images\n",
    "        # thus we revert the metric. Later it's checked to be non-negative\n",
    "        distances = 1 - distances\n",
    "        trunc_ids = ids\n",
    "        logger.info(\"Computing laplacian\")\n",
    "        lap_alpha = self.laplacian(distances[:, :kd], ids[:, :kd])\n",
    "        trunc_init = np.zeros(truncation_size)\n",
    "        trunc_init[0] = 1\n",
    "        \n",
    "        logger.info('[offline] 2) gallery-side diffusion')\n",
    "        \n",
    "        # Slow, imrove later with multiprocessing\n",
    "        new_func = functools.partial(get_single_score, truncation_size=truncation_size)\n",
    "        results = [new_func(i) for i in tqdm(range(self.N))]\n",
    "        all_scores = np.concatenate(results)\n",
    "\n",
    "        logger.info('[offline] 3) merge offline results')\n",
    "        rows = np.repeat(np.arange(self.N), truncation_size)\n",
    "        offline = sparse.csr_matrix((all_scores, (rows, trunc_ids.reshape(-1))),\n",
    "                                    shape=(self.N, self.N),\n",
    "                                    dtype=np.float32)\n",
    "        return offline\n",
    "\n",
    "    def laplacian(self, distances, ids, alpha=0.99):\n",
    "        \"\"\"Computaion of Laplacian alpha matrix\n",
    "        Args:\n",
    "            sims:\n",
    "            ids: ???\n",
    "            alpha: Parameter for Laplacian construction\n",
    "    \n",
    "        Returns:\n",
    "            lap_alpha: Matrix of ...\n",
    "        \"\"\"\n",
    "        # Shape (num x num) (self.N x self.N?)\n",
    "        affinity = self.affinity(distances, ids)\n",
    "        \n",
    "        num = affinity.shape[0]\n",
    "        degrees = affinity @ np.ones(num) + 1e-12\n",
    "        # mat: degree matrix ^ (-1/2)\n",
    "        mat = sparse.dia_matrix(\n",
    "            (degrees ** (-0.5), [0]), shape=(num, num), dtype=np.float32)\n",
    "        stochastic = mat @ affinity @ mat\n",
    "        sparse_eye = sparse.dia_matrix(\n",
    "            (np.ones(num), [0]), shape=(num, num), dtype=np.float32)\n",
    "        lap_alpha = sparse_eye - alpha * stochastic\n",
    "        return lap_alpha\n",
    "\n",
    "    def affinity(self, distances, ids, gamma=3):\n",
    "        \"\"\"Create affinity matrix for the mutual kNN graph of the whole dataset\n",
    "        Args:\n",
    "            distances: Similarities of kNN\n",
    "            ids: Indexes of kNN\n",
    "        Returns:\n",
    "            affinity: Affinity matrix\n",
    "        \"\"\"\n",
    "#         num = self.N ??\n",
    "        num = distances.shape[0]\n",
    "        \n",
    "        # Distance should be non-negative\n",
    "        distances[distances < 0] = 0\n",
    "\n",
    "        distances = distances ** self.gamma\n",
    "        # vec_ids: feature vectors' ids\n",
    "        # mut_ids: mutual (reciprocal) nearest neighbors' ids\n",
    "        # mut_sims: similarites between feature vectors and their mutual nearest neighbors\n",
    "        vec_ids, mut_ids, mut_sims = [], [], []\n",
    "        for i in range(num):\n",
    "            # check reciprocity: i is in j's kNN and j is in i's kNN when i != j\n",
    "            ismutual = np.isin(ids[ids[i]], i).any(axis=1)\n",
    "            ismutual[0] = False\n",
    "            if ismutual.any():\n",
    "                vec_ids.append(i * np.ones(ismutual.sum(), dtype=int))\n",
    "                mut_ids.append(ids[i, ismutual])\n",
    "                mut_sims.append(distances[i, ismutual])\n",
    "        vec_ids, mut_ids, mut_sims = map(np.concatenate, [vec_ids, mut_ids, mut_sims])\n",
    "        affinity = sparse.csc_matrix((mut_sims, (vec_ids, mut_ids)),\n",
    "                                     shape=(num, num), dtype=np.float32)\n",
    "        return affinity"
   ]
  },
  {
   "cell_type": "code",
   "execution_count": null,
   "metadata": {},
   "outputs": [],
   "source": []
  },
  {
   "cell_type": "code",
   "execution_count": 224,
   "metadata": {
    "ExecuteTime": {
     "end_time": "2020-09-22T17:26:34.415253Z",
     "start_time": "2020-09-22T17:26:34.412230Z"
    }
   },
   "outputs": [],
   "source": [
    "# query_embeddings, gallery_embeddings = ...\n",
    "# kd - how many nearest neighbours for each image to search. Rename -> max_neighbours?\n",
    "kd = 50\n",
    "kq = 10\n",
    "gamma = 3\n",
    "truncation_size = 1000 # 5000? authors say it improves results for bigger datasets"
   ]
  },
  {
   "cell_type": "code",
   "execution_count": 228,
   "metadata": {
    "ExecuteTime": {
     "end_time": "2020-09-22T17:29:38.078147Z",
     "start_time": "2020-09-22T17:28:55.233575Z"
    }
   },
   "outputs": [
    {
     "name": "stderr",
     "output_type": "stream",
     "text": [
      "100%|██████████| 2/2 [00:00<00:00, 43.04it/s]\n",
      "2020-09-22 20:28:55.352 | INFO     | __main__:get_offline_results:62 - Searching neighbours\n",
      "2020-09-22 20:29:01.376 | INFO     | __main__:get_offline_results:65 - Computing laplacian\n",
      "2020-09-22 20:29:02.074 | INFO     | __main__:get_offline_results:70 - [offline] 2) gallery-side diffusion\n",
      "100%|██████████| 16656/16656 [00:34<00:00, 477.56it/s]\n",
      "2020-09-22 20:29:37.043 | INFO     | __main__:get_offline_results:76 - [offline] 3) merge offline results\n"
     ]
    }
   ],
   "source": [
    "\n",
    "# Search\n",
    "len_query = query_embeddings.shape[0]\n",
    "\n",
    "\n",
    "diffusion = Diffusion(\n",
    "    embeddings = np.vstack([query_embeddings, gallery_embeddings]), \n",
    "    distance='cosine',\n",
    "    gamma=3)\n",
    "\n",
    "offline = diffusion.get_offline_results(truncation_size, kd=kd)\n",
    "\n",
    "# diffusion = Diffusion(\n",
    "#     embeddings = gallery_embeddings, \n",
    "#     distance='cosine',\n",
    "#     gamma=3)\n",
    "\n",
    "# offline = diffusion.get_offline_results(truncation_size, kd=kd)"
   ]
  }
 ],
 "metadata": {
  "kernelspec": {
   "display_name": "Python 3.6.9 64-bit",
   "language": "python",
   "name": "python36964bit9890b48dadda4b3ab35703e845f6f232"
  },
  "language_info": {
   "codemirror_mode": {
    "name": "ipython",
    "version": 3
   },
   "file_extension": ".py",
   "mimetype": "text/x-python",
   "name": "python",
   "nbconvert_exporter": "python",
   "pygments_lexer": "ipython3",
   "version": "3.6.9"
  }
 },
 "nbformat": 4,
 "nbformat_minor": 2
}
