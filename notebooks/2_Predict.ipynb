{
 "cells": [
  {
   "cell_type": "code",
   "execution_count": 2,
   "metadata": {
    "ExecuteTime": {
     "end_time": "2020-10-01T12:00:14.681013Z",
     "start_time": "2020-10-01T12:00:14.677441Z"
    }
   },
   "outputs": [],
   "source": [
    "import os\n",
    "import sys\n",
    "import pathlib\n",
    "\n",
    "import cv2\n",
    "import numpy as np\n",
    "import pandas as pd\n",
    "import torch\n",
    "import matplotlib.pyplot as plt\n",
    "\n",
    "import torchvision\n",
    "from tqdm.notebook import tqdm\n",
    "\n",
    "import matplotlib.pyplot as plt \n",
    "import albumentations as albu"
   ]
  },
  {
   "cell_type": "code",
   "execution_count": 9,
   "metadata": {
    "ExecuteTime": {
     "end_time": "2020-10-01T12:01:33.441348Z",
     "start_time": "2020-10-01T12:01:33.245859Z"
    }
   },
   "outputs": [
    {
     "data": {
      "text/plain": [
       "torch.uint8"
      ]
     },
     "execution_count": 9,
     "metadata": {},
     "output_type": "execute_result"
    }
   ],
   "source": [
    "url = 'https://upload.wikimedia.org/wikipedia/commons/5/53/OpenCV_Logo_with_text.png'\n",
    "\n",
    "from skimage import io\n",
    "import torch\n",
    "import numpy as np\n",
    "\n",
    "image = io.imread(url)\n",
    "image_t = torch.tensor(image)\n",
    "image_t.dtype\n",
    "# RGB channel order\n",
    "# plt.imshow(image)\n",
    "# image = np.asarray(image, dtype=\"uint8\")\n"
   ]
  },
  {
   "cell_type": "code",
   "execution_count": 2,
   "metadata": {
    "ExecuteTime": {
     "end_time": "2020-09-29T16:06:21.964644Z",
     "start_time": "2020-09-29T16:06:21.957730Z"
    }
   },
   "outputs": [
    {
     "data": {
      "text/html": [
       "<style>.container {width:100% !important;}</style>"
      ],
      "text/plain": [
       "<IPython.core.display.HTML object>"
      ]
     },
     "metadata": {},
     "output_type": "display_data"
    }
   ],
   "source": [
    "from IPython.core.display import display, HTML\n",
    "display(HTML(\"<style>.container {width:100% !important;}</style>\"))\n",
    "\n",
    "# Fix to be able to import python modules inside a notebook\n",
    "os.chdir('..')\n",
    "# sys.path.append(\"../\")\n",
    "\n",
    "# Useful extensions\n",
    "# %load_ext watermark\n",
    "# %watermark -v -n -m -p numpy,torch,albumentations,photosynthesis_metrics\n",
    "\n",
    "# %load_ext autoreload\n",
    "# %autoreload 2\n",
    "\n",
    "# Nice plot formating\n",
    "%matplotlib inline"
   ]
  },
  {
   "cell_type": "code",
   "execution_count": 33,
   "metadata": {
    "ExecuteTime": {
     "end_time": "2020-09-29T16:22:53.946700Z",
     "start_time": "2020-09-29T16:22:53.777940Z"
    }
   },
   "outputs": [
    {
     "name": "stdout",
     "output_type": "stream",
     "text": [
      "configs  Makefile    preprocess.py  requirements.txt  train.py\r\n",
      "data\t notebooks   __pycache__    src\r\n",
      "logs\t predict.py  README.md\t    tmp.txt\r\n"
     ]
    }
   ],
   "source": [
    "!ls"
   ]
  },
  {
   "cell_type": "code",
   "execution_count": 34,
   "metadata": {
    "ExecuteTime": {
     "end_time": "2020-09-29T16:22:53.983806Z",
     "start_time": "2020-09-29T16:22:53.981140Z"
    }
   },
   "outputs": [],
   "source": [
    "# Sanity check that all files listed as queries do exist\n",
    "# and all listed gallery files exist\n",
    "# query_files = df[0].values\n",
    "# gallery_files = df[1].values.tolist() \\\n",
    "#             + df[2].values.tolist() \\\n",
    "#             + df[3].values.tolist() \\\n",
    "#             + df[4].values.tolist() \\\n",
    "#             + df[5].values.tolist() \\\n",
    "#             + df[6].values.tolist() \\\n",
    "#             + df[7].values.tolist() \\\n",
    "#             + df[8].values.tolist() \\\n",
    "#             + df[9].values.tolist() \\\n",
    "#             + df[10].values.tolist()\n",
    "#  assert map(lambda x: pathlib.Path(x).exists(), self.filenames), \"Found missing images!\"\n",
    "# assert map(lambda x: pathlib.Path(f\"data/raw/test_datadfgdfg_B/query/{x}\").exists(), query_files), \"Found missing images!\"\n",
    "# assert map(lambda x: pathlib.Path(f\"data/raw/test_data_B/gallery/{x}\").exists(), gallery_files), \"Found missing images!\"\n",
    "# sum(list(map(lambda x: pathlib.Path(f\"data/raw/test_data_B/query/{x}\").exists(), query_files)))\n",
    "# sum(list(map(lambda x: pathlib.Path(f\"data/raw/test_data_B/gallery/{x}\").exists(), gallery_files)))\n"
   ]
  },
  {
   "cell_type": "code",
   "execution_count": 35,
   "metadata": {
    "ExecuteTime": {
     "end_time": "2020-09-29T16:22:54.710472Z",
     "start_time": "2020-09-29T16:22:54.702606Z"
    }
   },
   "outputs": [],
   "source": [
    "from ipywidgets import interact, interactive, fixed, interact_manual\n",
    "def show_predictions(query_idx, config_path, dba=True, aqe=True, diffusion=False, size=512):\n",
    "    \"\"\"Plots predictions from submission.csv\"\"\"\n",
    "    filename =  f\"submission{'_dba' if dba else ''}{'_aqe' if aqe else ''}_{size}.csv\"\n",
    "    df = pd.read_csv(\n",
    "        pathlib.Path(config_path) / filename, header=None)\n",
    "    print(filename)\n",
    "    df[1] = df[1].apply(lambda x: x[1:])\n",
    "    df[10] = df[10].apply(lambda x: x[:-1])\n",
    "    # Sort, so that results indexes are always same\n",
    "    df.sort_values(by=0, inplace=True)\n",
    "    query_file = os.path.join(\"data/interim/test_data_B_512/query\", df.iloc[query_idx].values[0])\n",
    "    gallery_files = [os.path.join(\"data/interim/test_data_B_512/gallery\", path) for path in df.iloc[query_idx].values[1:]]\n",
    "    print(query_file, \"\\n\", gallery_files)\n",
    "    query = cv2.imread(query_file)\n",
    "    query = cv2.cvtColor(query, cv2.COLOR_BGR2RGB)\n",
    "    print(query_file, gallery_files[1], gallery_files[8])\n",
    "    plt.figure(figsize=(20,15))\n",
    "    plt.subplot(1, 11, 1)\n",
    "    plt.imshow(query)\n",
    "    for i in range(10):\n",
    "        image = cv2.imread(gallery_files[i])\n",
    "        image = cv2.cvtColor(image, cv2.COLOR_BGR2RGB)\n",
    "        plt.subplot(1, 11, i + 2)\n",
    "        plt.imshow(image)"
   ]
  },
  {
   "cell_type": "code",
   "execution_count": 36,
   "metadata": {
    "ExecuteTime": {
     "end_time": "2020-09-29T16:22:55.594028Z",
     "start_time": "2020-09-29T16:22:55.413673Z"
    }
   },
   "outputs": [
    {
     "name": "stdout",
     "output_type": "stream",
     "text": [
      "41574\n"
     ]
    },
    {
     "data": {
      "text/html": [
       "<div>\n",
       "<style scoped>\n",
       "    .dataframe tbody tr th:only-of-type {\n",
       "        vertical-align: middle;\n",
       "    }\n",
       "\n",
       "    .dataframe tbody tr th {\n",
       "        vertical-align: top;\n",
       "    }\n",
       "\n",
       "    .dataframe thead th {\n",
       "        text-align: right;\n",
       "    }\n",
       "</style>\n",
       "<table border=\"1\" class=\"dataframe\">\n",
       "  <thead>\n",
       "    <tr style=\"text-align: right;\">\n",
       "      <th></th>\n",
       "      <th>0</th>\n",
       "      <th>1</th>\n",
       "      <th>2</th>\n",
       "      <th>3</th>\n",
       "      <th>4</th>\n",
       "      <th>5</th>\n",
       "      <th>6</th>\n",
       "      <th>7</th>\n",
       "      <th>8</th>\n",
       "      <th>9</th>\n",
       "      <th>10</th>\n",
       "    </tr>\n",
       "  </thead>\n",
       "  <tbody>\n",
       "    <tr>\n",
       "      <th>0</th>\n",
       "      <td>04O36K1EVABPTQF7.jpg</td>\n",
       "      <td>BZO1LEPCQGM0IDU2.jpg</td>\n",
       "      <td>4DE6W8N07ZM2BLGS.jpg</td>\n",
       "      <td>L79AURYXEQM160KN.jpg</td>\n",
       "      <td>QBTDEXLK3HMJZS0A.jpg</td>\n",
       "      <td>ZTH6C59NL8SFY1XJ.jpg</td>\n",
       "      <td>WC4R3BLJ7O5ZYQT0.jpg</td>\n",
       "      <td>U7NY9IPAZ6M2XQOL.jpg</td>\n",
       "      <td>9LZ36NCBJWHOYUPM.jpg</td>\n",
       "      <td>42XDE5YNOGFJV1ZQ.jpg</td>\n",
       "      <td>TH1CSVFR4OEUX809.jpg</td>\n",
       "    </tr>\n",
       "    <tr>\n",
       "      <th>1</th>\n",
       "      <td>05KTPHIDM4SCLU8O.jpg</td>\n",
       "      <td>WQHNI9AOGFXPDLC2.jpg</td>\n",
       "      <td>EMU8OGD14FBRNP9C.jpg</td>\n",
       "      <td>8TMD9275VI0PJOBU.jpg</td>\n",
       "      <td>IPW5D4BLZUXNRQHE.jpg</td>\n",
       "      <td>JGZ72CEFLIUDMP93.jpg</td>\n",
       "      <td>63JW8L1CTO7XUFYB.jpg</td>\n",
       "      <td>C5BDYZWQSA6X3IPN.jpg</td>\n",
       "      <td>GWB1SMR76OVQ4H9T.jpg</td>\n",
       "      <td>DHA0ZSPGL5BXKOVE.jpg</td>\n",
       "      <td>0PZ394D78QH6ICE2.jpg</td>\n",
       "    </tr>\n",
       "    <tr>\n",
       "      <th>2</th>\n",
       "      <td>06PC4NDUG1I78L3W.jpg</td>\n",
       "      <td>2SPX6GL5WEKAJ43R.jpg</td>\n",
       "      <td>ZLIO8YMVKSF2CW10.jpg</td>\n",
       "      <td>7W9J6KQRH5OE2NXA.jpg</td>\n",
       "      <td>1FZS0NXDGW52MP9I.jpg</td>\n",
       "      <td>IVBH5L4REXCS7PAQ.jpg</td>\n",
       "      <td>Z2IX63NSLJ7UF9EM.jpg</td>\n",
       "      <td>7Q5KFD0R1P8CSNLU.jpg</td>\n",
       "      <td>YQ01U2H39RMNXTLS.jpg</td>\n",
       "      <td>5GYDKJIA60CMOQEP.jpg</td>\n",
       "      <td>N0GODPVHY9QW81K2.jpg</td>\n",
       "    </tr>\n",
       "    <tr>\n",
       "      <th>3</th>\n",
       "      <td>0951SEM26AY3TJON.jpg</td>\n",
       "      <td>KYP6BQ07WJVC19XD.jpg</td>\n",
       "      <td>A7XSMEKGFQPC2O60.jpg</td>\n",
       "      <td>GKPAVMDJ8T94C0SB.jpg</td>\n",
       "      <td>O073UTPHVBIYX5ZC.jpg</td>\n",
       "      <td>9U52FJLMID6EK4GA.jpg</td>\n",
       "      <td>CFPR0879MXGNDIKU.jpg</td>\n",
       "      <td>6E9L3JXKYHAB721I.jpg</td>\n",
       "      <td>4OSGYW9HQPNVXEC0.jpg</td>\n",
       "      <td>YS6HWKGA8235LRF7.jpg</td>\n",
       "      <td>RF7IYPH25X384QDK.jpg</td>\n",
       "    </tr>\n",
       "    <tr>\n",
       "      <th>4</th>\n",
       "      <td>09B7GV2DPMI4JYHL.jpg</td>\n",
       "      <td>1HDECJ2W0U6GFRVS.jpg</td>\n",
       "      <td>IFZDVCQG9HUJB3YO.jpg</td>\n",
       "      <td>XOE26TCS08KGB39U.jpg</td>\n",
       "      <td>U1RYDLEV72F8ZS50.jpg</td>\n",
       "      <td>MZODGAW49S6NRVLK.jpg</td>\n",
       "      <td>JV4SQXGB510UHFDZ.jpg</td>\n",
       "      <td>T3C1WRIN8Q9LG4U0.jpg</td>\n",
       "      <td>PXQB263KHAZNMRJV.jpg</td>\n",
       "      <td>5ATFIZ1YMR2PB97S.jpg</td>\n",
       "      <td>JYVWPD8T9L5ZRMXI.jpg</td>\n",
       "    </tr>\n",
       "  </tbody>\n",
       "</table>\n",
       "</div>"
      ],
      "text/plain": [
       "                     0                     1                     2   \\\n",
       "0  04O36K1EVABPTQF7.jpg  BZO1LEPCQGM0IDU2.jpg  4DE6W8N07ZM2BLGS.jpg   \n",
       "1  05KTPHIDM4SCLU8O.jpg  WQHNI9AOGFXPDLC2.jpg  EMU8OGD14FBRNP9C.jpg   \n",
       "2  06PC4NDUG1I78L3W.jpg  2SPX6GL5WEKAJ43R.jpg  ZLIO8YMVKSF2CW10.jpg   \n",
       "3  0951SEM26AY3TJON.jpg  KYP6BQ07WJVC19XD.jpg  A7XSMEKGFQPC2O60.jpg   \n",
       "4  09B7GV2DPMI4JYHL.jpg  1HDECJ2W0U6GFRVS.jpg  IFZDVCQG9HUJB3YO.jpg   \n",
       "\n",
       "                     3                     4                     5   \\\n",
       "0  L79AURYXEQM160KN.jpg  QBTDEXLK3HMJZS0A.jpg  ZTH6C59NL8SFY1XJ.jpg   \n",
       "1  8TMD9275VI0PJOBU.jpg  IPW5D4BLZUXNRQHE.jpg  JGZ72CEFLIUDMP93.jpg   \n",
       "2  7W9J6KQRH5OE2NXA.jpg  1FZS0NXDGW52MP9I.jpg  IVBH5L4REXCS7PAQ.jpg   \n",
       "3  GKPAVMDJ8T94C0SB.jpg  O073UTPHVBIYX5ZC.jpg  9U52FJLMID6EK4GA.jpg   \n",
       "4  XOE26TCS08KGB39U.jpg  U1RYDLEV72F8ZS50.jpg  MZODGAW49S6NRVLK.jpg   \n",
       "\n",
       "                     6                     7                     8   \\\n",
       "0  WC4R3BLJ7O5ZYQT0.jpg  U7NY9IPAZ6M2XQOL.jpg  9LZ36NCBJWHOYUPM.jpg   \n",
       "1  63JW8L1CTO7XUFYB.jpg  C5BDYZWQSA6X3IPN.jpg  GWB1SMR76OVQ4H9T.jpg   \n",
       "2  Z2IX63NSLJ7UF9EM.jpg  7Q5KFD0R1P8CSNLU.jpg  YQ01U2H39RMNXTLS.jpg   \n",
       "3  CFPR0879MXGNDIKU.jpg  6E9L3JXKYHAB721I.jpg  4OSGYW9HQPNVXEC0.jpg   \n",
       "4  JV4SQXGB510UHFDZ.jpg  T3C1WRIN8Q9LG4U0.jpg  PXQB263KHAZNMRJV.jpg   \n",
       "\n",
       "                     9                     10  \n",
       "0  42XDE5YNOGFJV1ZQ.jpg  TH1CSVFR4OEUX809.jpg  \n",
       "1  DHA0ZSPGL5BXKOVE.jpg  0PZ394D78QH6ICE2.jpg  \n",
       "2  5GYDKJIA60CMOQEP.jpg  N0GODPVHY9QW81K2.jpg  \n",
       "3  YS6HWKGA8235LRF7.jpg  RF7IYPH25X384QDK.jpg  \n",
       "4  5ATFIZ1YMR2PB97S.jpg  JYVWPD8T9L5ZRMXI.jpg  "
      ]
     },
     "execution_count": 36,
     "metadata": {},
     "output_type": "execute_result"
    }
   ],
   "source": [
    "CONFIG_PATH = pathlib.Path(\"logs/genet_normal_384_hard_arcface80_15\") \n",
    "FILENAME = f\"submission_dba_aqe_512.csv\"\n",
    "df = pd.read_csv(\n",
    "    CONFIG_PATH / FILENAME, header=None)\n",
    "df[1] = df[1].apply(lambda x: x[1:])\n",
    "df[10] = df[10].apply(lambda x: x[:-1])\n",
    "print(len(df))\n",
    "df.head()"
   ]
  },
  {
   "cell_type": "code",
   "execution_count": 40,
   "metadata": {
    "ExecuteTime": {
     "end_time": "2020-09-29T16:25:50.800302Z",
     "start_time": "2020-09-29T16:25:50.761895Z"
    }
   },
   "outputs": [
    {
     "data": {
      "application/vnd.jupyter.widget-view+json": {
       "model_id": "04b37a1c6e9d467395909a9a793cfbf3",
       "version_major": 2,
       "version_minor": 0
      },
      "text/plain": [
       "interactive(children=(IntSlider(value=20787, description='query_idx', max=41574), Checkbox(value=True, descrip…"
      ]
     },
     "metadata": {},
     "output_type": "display_data"
    }
   ],
   "source": [
    "# df.head()\n",
    "# len(df)\n",
    "interact_manual(show_predictions, config_path=fixed(CONFIG_PATH), query_idx=(0,len(df)), size=(384, 512, 128));"
   ]
  },
  {
   "cell_type": "code",
   "execution_count": null,
   "metadata": {},
   "outputs": [],
   "source": []
  },
  {
   "cell_type": "code",
   "execution_count": 16,
   "metadata": {
    "ExecuteTime": {
     "end_time": "2020-09-29T16:20:59.982915Z",
     "start_time": "2020-09-29T16:20:59.974821Z"
    }
   },
   "outputs": [],
   "source": [
    "import cv2\n",
    "# import cv2.xfeatures2d as cv\n",
    "import numpy\n",
    "from time import time\n",
    "import pydegensac\n",
    "from matplotlib import pyplot as plt\n",
    "from copy import deepcopy"
   ]
  },
  {
   "cell_type": "code",
   "execution_count": null,
   "metadata": {},
   "outputs": [],
   "source": []
  },
  {
   "cell_type": "code",
   "execution_count": 17,
   "metadata": {
    "ExecuteTime": {
     "end_time": "2020-09-29T16:21:01.127810Z",
     "start_time": "2020-09-29T16:21:01.120781Z"
    }
   },
   "outputs": [],
   "source": [
    "#We will draw correspondences found and the geometric transformation between the images.\n",
    "def decolorize(img):\n",
    "    return  cv2.cvtColor(cv2.cvtColor(img,cv2.COLOR_RGB2GRAY), cv2.COLOR_GRAY2RGB)\n",
    "def draw_matches(kps1, kps2, tentatives, img1, img2, H, mask):\n",
    "    if H is None:\n",
    "        print (\"No homography found\")\n",
    "        return\n",
    "    matchesMask = mask.ravel().tolist()\n",
    "    h,w,ch = img1.shape\n",
    "    pts = np.float32([ [0,0],[0,h-1],[w-1,h-1],[w-1,0] ]).reshape(-1,1,2)\n",
    "    dst = cv2.perspectiveTransform(pts, H)\n",
    "    #print (dst)\n",
    "    #Ground truth transformation\n",
    "#     dst_GT = cv2.perspectiveTransform(pts, H_gt)\n",
    "    img2_tr = cv2.polylines(decolorize(img2),[np.int32(dst)],True,(0,0,255),3, cv2.LINE_AA)\n",
    "#     img2_tr = cv2.polylines(deepcopy(img2_tr),[np.int32(dst_GT)],True,(0,255,0),3, cv2.LINE_AA)\n",
    "    # Blue is estimated, green is ground truth homography\n",
    "    draw_params = dict(matchColor = (255,255,0), # draw matches in yellow color\n",
    "                   singlePointColor = None,\n",
    "                   matchesMask = matchesMask, # draw only inliers\n",
    "                   flags = 2)\n",
    "    img_out = cv2.drawMatches(decolorize(img1),kps1,img2_tr,kps2,tentatives,None,**draw_params)\n",
    "    plt.figure()\n",
    "    fig, ax = plt.subplots(figsize=(15, 15))\n",
    "    ax.imshow(img_out, interpolation='nearest')\n",
    "    return"
   ]
  },
  {
   "cell_type": "code",
   "execution_count": 30,
   "metadata": {
    "ExecuteTime": {
     "end_time": "2020-09-29T16:22:26.775915Z",
     "start_time": "2020-09-29T16:22:26.486928Z"
    }
   },
   "outputs": [
    {
     "data": {
      "text/plain": [
       "<matplotlib.image.AxesImage at 0x7feda72e79e8>"
      ]
     },
     "execution_count": 30,
     "metadata": {},
     "output_type": "execute_result"
    },
    {
     "data": {
      "image/png": "[encoded data removed]",
      "text/plain": [
       "<Figure size 432x288 with 1 Axes>"
      ]
     },
     "metadata": {
      "needs_background": "light"
     },
     "output_type": "display_data"
    },
    {
     "data": {
      "image/png": "[encoded data removed]",
      "text/plain": [
       "<Figure size 432x288 with 1 Axes>"
      ]
     },
     "metadata": {
      "needs_background": "light"
     },
     "output_type": "display_data"
    }
   ],
   "source": [
    "# img1 = \"data/raw/test_data_B/query/0OWZNAL8IRX5PES1.jpg\"\n",
    "                                                 \n",
    "# img2 = \"data/raw/test_data_B/gallery/3VUB0E98COZSL7IM.jpg\" # correct \n",
    "# img2 = \"data/raw/test_data_B/gallery/9FDY6NBTX4QCPAS2.jpg\" # correct \n",
    "# img2 = \"data/raw/test_data_B/gallery/XKY5BIV0MZHCWT62.jpg\" # correct \n",
    "# img2 = \"data/raw/test_data_B/gallery/FWGLI41DAN3P6ZVT.jpg\" # incorrect\n",
    "# img2 = \"data/raw/test_data_B/gallery/UZPTN968W527OBEI.jpg\" # incorrect\n",
    "\n",
    "# img1 = \"data/raw/test_data_B/query/05KTPHIDM4SCLU8O.jpg\"\n",
    "# img2 = \"data/raw/test_data_B/gallery/M8LQXCUITP9VDKY7.jpg\"\n",
    "\n",
    "img1 = \"data/raw/test_data_B/query/0AZH9X7GCV1WMDE2.jpg\"\n",
    "img2 = \"data/raw/test_data_B/gallery/H05MGFX74TPK3UCZ.jpg\"\n",
    "\n",
    " \n",
    "#Lets load some images and detect some featues\n",
    "# Images are from HSequences dataset  https://github.com/hpatches/hpatches-dataset\n",
    "img1 = cv2.cvtColor(cv2.imread(img1), cv2.COLOR_BGR2RGB)\n",
    "img2 = cv2.cvtColor(cv2.imread(img2), cv2.COLOR_BGR2RGB)\n",
    "\n",
    "\n",
    "# H_gt =np.loadtxt('img/v_dogman/H_1_6')\n",
    "\n",
    "# SIFT is not available by pip install, so lets use AKAZE features\n",
    "# det = cv2.AKAZE_create(descriptor_type = 3, threshold=0.00001)\n",
    "# det = cv2.SIFT_create()\n",
    "# det = cv2.xfeatures2d.SURF_create(hessianThreshold=0, extended=False)\n",
    "# kps1, descs1 = det.detectAndCompute(img1,None)\n",
    "# kps2, descs2 = det.detectAndCompute(img2,None)\n",
    "\n",
    "\n",
    "# det = cv2.ORB_create(3000)    \n",
    "# kps1, descs1 = det.detectAndCompute(img1,None)\n",
    "# kps2, descs2 = det.detectAndCompute(img2,None)\n",
    "\n",
    "# bf = cv2.BFMatcher(cv2.NORM_HAMMING, crossCheck=True)\n",
    "# tentatives = bf.match(descs1,descs2)\n",
    "\n",
    "# det = cv2.ORB_create(3000, WTA_K=3)    \n",
    "# kps1, descs1 = det.detectAndCompute(img1,None)\n",
    "# kps2, descs2 = det.detectAndCompute(img2,None)\n",
    "\n",
    "# print(kps1, kps2)\n",
    "# #     bf = cv2.BFMatcher(cv2.NORM_HAMMING, crossCheck=True)\n",
    "# bf = cv2.BFMatcher(cv2.NORM_HAMMING2, crossCheck=True)\n",
    "# tentatives = bf.match(descs1,descs2)\n",
    "\n",
    "# # AKAZE features output \"detection\" scale, which is 6x less than one used for descriptor\n",
    "# # For correct drawing, we increase it manually\n",
    "# # for i in range(len(kps1)):\n",
    "# #     kps1[i].size = 5*kps1[i].size\n",
    "# # for i in range(len(kps2)):\n",
    "# #     kps2[i].size = 5*kps2[i].size\n",
    "\n",
    "# vis_img1, vis_img2 = None,None\n",
    "# vis_img1 = cv2.drawKeypoints(cv2.cvtColor(img1,cv2.COLOR_RGB2GRAY),kps1,vis_img1, \n",
    "#                              flags=cv2.DRAW_MATCHES_FLAGS_DRAW_RICH_KEYPOINTS)\n",
    "# vis_img2 = cv2.drawKeypoints(cv2.cvtColor(img2,cv2.COLOR_RGB2GRAY),kps2,vis_img2, \n",
    "#                              flags=cv2.DRAW_MATCHES_FLAGS_DRAW_RICH_KEYPOINTS)\n",
    "# plt.imshow(vis_img1)\n",
    "# plt.figure()\n",
    "# plt.imshow(vis_img2)\n",
    "\n",
    "plt.imshow(img1)\n",
    "plt.figure()\n",
    "plt.imshow(img2)"
   ]
  },
  {
   "cell_type": "code",
   "execution_count": 19,
   "metadata": {
    "ExecuteTime": {
     "end_time": "2020-09-29T16:21:07.124803Z",
     "start_time": "2020-09-29T16:21:07.122266Z"
    }
   },
   "outputs": [],
   "source": [
    "# BFMatcher with default params\n",
    "# bf = cv2.BFMatcher()\n",
    "# matches = bf.knnMatch(descs1,descs2, k=2)\n",
    "\n",
    "# # Need to draw only good matches, so create a mask\n",
    "# matchesMask = [False for i in range(len(matches))]\n",
    "\n",
    "# # SNN ratio test\n",
    "# for i,(m,n) in enumerate(matches):\n",
    "#     if m.distance < 0.9*n.distance:\n",
    "#         matchesMask[i]=True\n",
    "# tentatives = [m[0] for i, m in enumerate(matches) if matchesMask[i] ]"
   ]
  },
  {
   "cell_type": "code",
   "execution_count": 27,
   "metadata": {
    "ExecuteTime": {
     "end_time": "2020-09-29T16:21:46.183741Z",
     "start_time": "2020-09-29T16:21:46.177374Z"
    }
   },
   "outputs": [],
   "source": [
    "#Now helper function for running homography RANSAC\n",
    "def verify_cv2(kps1, kps2, tentatives, th = 4.0 , n_iter = 2000):\n",
    "    src_pts = np.float32([ kps1[m.queryIdx].pt for m in tentatives ]).reshape(-1,2)\n",
    "    dst_pts = np.float32([ kps2[m.trainIdx].pt for m in tentatives ]).reshape(-1,2)\n",
    "    H, mask = cv2.findHomography(src_pts, dst_pts, cv2.RANSAC, th, 0.99, n_iter)\n",
    "    print ('cv2 found {} inliers'.format(int(deepcopy(mask).astype(np.float32).sum())))\n",
    "    return H, mask\n",
    "\n",
    "def verify_pydegensac(kps1, kps2, tentatives, th = 4.0,  n_iter = 2000):\n",
    "    src_pts = np.float32([ kps1[m.queryIdx].pt for m in tentatives ]).reshape(-1,2)\n",
    "    dst_pts = np.float32([ kps2[m.trainIdx].pt for m in tentatives ]).reshape(-1,2)\n",
    "    H, mask = pydegensac.findHomography(src_pts, dst_pts, th, 0.99, n_iter)\n",
    "    print ('pydegensac found {} inliers'.format(int(deepcopy(mask).astype(np.float32).sum())))\n",
    "#     print (mask.sum())\n",
    "    return H, mask"
   ]
  },
  {
   "cell_type": "code",
   "execution_count": 28,
   "metadata": {
    "ExecuteTime": {
     "end_time": "2020-09-29T16:21:47.047610Z",
     "start_time": "2020-09-29T16:21:47.034670Z"
    }
   },
   "outputs": [
    {
     "ename": "NameError",
     "evalue": "name 'tentatives' is not defined",
     "output_type": "error",
     "traceback": [
      "\u001b[0;31m---------------------------------------------------------------------------\u001b[0m",
      "\u001b[0;31mNameError\u001b[0m                                 Traceback (most recent call last)",
      "\u001b[0;32m<ipython-input-28-19eff9b77d92>\u001b[0m in \u001b[0;36m<module>\u001b[0;34m\u001b[0m\n\u001b[1;32m      3\u001b[0m \u001b[0;34m\u001b[0m\u001b[0m\n\u001b[1;32m      4\u001b[0m \u001b[0mt\u001b[0m\u001b[0;34m=\u001b[0m\u001b[0mtime\u001b[0m\u001b[0;34m(\u001b[0m\u001b[0;34m)\u001b[0m\u001b[0;34m\u001b[0m\u001b[0;34m\u001b[0m\u001b[0m\n\u001b[0;32m----> 5\u001b[0;31m \u001b[0mcv2_H\u001b[0m\u001b[0;34m,\u001b[0m \u001b[0mcv2_mask\u001b[0m \u001b[0;34m=\u001b[0m \u001b[0mverify_cv2\u001b[0m\u001b[0;34m(\u001b[0m\u001b[0mkps1\u001b[0m\u001b[0;34m,\u001b[0m\u001b[0mkps2\u001b[0m\u001b[0;34m,\u001b[0m\u001b[0mtentatives\u001b[0m\u001b[0;34m,\u001b[0m \u001b[0mth\u001b[0m\u001b[0;34m,\u001b[0m \u001b[0mn_iter\u001b[0m \u001b[0;34m)\u001b[0m\u001b[0;34m\u001b[0m\u001b[0;34m\u001b[0m\u001b[0m\n\u001b[0m\u001b[1;32m      6\u001b[0m \u001b[0mprint\u001b[0m \u001b[0;34m(\u001b[0m\u001b[0;34m\"{0:.5f}\"\u001b[0m\u001b[0;34m.\u001b[0m\u001b[0mformat\u001b[0m\u001b[0;34m(\u001b[0m\u001b[0mtime\u001b[0m\u001b[0;34m(\u001b[0m\u001b[0;34m)\u001b[0m\u001b[0;34m-\u001b[0m\u001b[0mt\u001b[0m\u001b[0;34m)\u001b[0m\u001b[0;34m,\u001b[0m \u001b[0;34m' sec cv2'\u001b[0m\u001b[0;34m)\u001b[0m\u001b[0;34m\u001b[0m\u001b[0;34m\u001b[0m\u001b[0m\n\u001b[1;32m      7\u001b[0m \u001b[0;34m\u001b[0m\u001b[0m\n",
      "\u001b[0;31mNameError\u001b[0m: name 'tentatives' is not defined"
     ]
    }
   ],
   "source": [
    "th = 4.0\n",
    "n_iter = 6000\n",
    "\n",
    "t=time()\n",
    "cv2_H, cv2_mask = verify_cv2(kps1,kps2,tentatives, th, n_iter )\n",
    "print (\"{0:.5f}\".format(time()-t), ' sec cv2')\n",
    "\n",
    "t=time()\n",
    "cmp_H, cmp_mask = verify_pydegensac(kps1,kps2,tentatives, th, n_iter)\n",
    "print (\"{0:.5f}\".format(time()-t), ' sec pydegensac')\n",
    "\n",
    "\n",
    "draw_matches(kps1, kps2, tentatives, img1, img2, cv2_H, cv2_mask)\n",
    "draw_matches(kps1, kps2, tentatives, img1, img2, cmp_H, cmp_mask)"
   ]
  },
  {
   "cell_type": "code",
   "execution_count": 22,
   "metadata": {
    "ExecuteTime": {
     "end_time": "2020-09-29T16:21:13.186001Z",
     "start_time": "2020-09-29T16:21:13.180799Z"
    }
   },
   "outputs": [],
   "source": [
    "def SIFT_KNN(img1, img2):\n",
    "    t1 = cv2.imread(img1,0)\n",
    "    t2 = cv2.imread(img2,0)\n",
    "\n",
    "    sift=cv2.xfeatures2d.SURF_create(300, extended=True)\n",
    "    kp1, des1 = sift.detectAndCompute(t1, None)\n",
    "    kp2, des2 = sift.detectAndCompute(t2, None)\n",
    "    \n",
    "    # FLANN parameters\n",
    "    FLANN_INDEX_KDTREE = 0\n",
    "    index_params = dict(algorithm = FLANN_INDEX_KDTREE, trees = 5)\n",
    "    search_params = dict(checks=500)   # or pass empty dictionary\n",
    "\n",
    "    flann = cv2.FlannBasedMatcher(index_params,search_params)\n",
    "    \n",
    "    matches = flann.knnMatch(des1,des2,k=2)\n",
    "\n",
    "    # ratio test as per Lowe's paper\n",
    "    counter = 0\n",
    "    for i,(m,n) in enumerate(matches):\n",
    "        if m.distance < 0.7 * n.distance:\n",
    "            counter += 1\n",
    "    return counter\n",
    "\n"
   ]
  },
  {
   "cell_type": "code",
   "execution_count": 23,
   "metadata": {
    "ExecuteTime": {
     "end_time": "2020-09-29T16:21:14.149924Z",
     "start_time": "2020-09-29T16:21:14.136145Z"
    }
   },
   "outputs": [
    {
     "ename": "TypeError",
     "evalue": "bad argument type for built-in operation",
     "output_type": "error",
     "traceback": [
      "\u001b[0;31m---------------------------------------------------------------------------\u001b[0m",
      "\u001b[0;31mTypeError\u001b[0m                                 Traceback (most recent call last)",
      "\u001b[0;32m<ipython-input-23-f326242b7e88>\u001b[0m in \u001b[0;36m<module>\u001b[0;34m\u001b[0m\n\u001b[1;32m      4\u001b[0m \u001b[0;34m\u001b[0m\u001b[0m\n\u001b[1;32m      5\u001b[0m \u001b[0;34m\u001b[0m\u001b[0m\n\u001b[0;32m----> 6\u001b[0;31m \u001b[0mSIFT_KNN\u001b[0m\u001b[0;34m(\u001b[0m\u001b[0mimg1\u001b[0m\u001b[0;34m,\u001b[0m \u001b[0mimg2\u001b[0m\u001b[0;34m)\u001b[0m\u001b[0;34m\u001b[0m\u001b[0;34m\u001b[0m\u001b[0m\n\u001b[0m",
      "\u001b[0;32m<ipython-input-22-9edc37597b11>\u001b[0m in \u001b[0;36mSIFT_KNN\u001b[0;34m(img1, img2)\u001b[0m\n\u001b[1;32m      1\u001b[0m \u001b[0;32mdef\u001b[0m \u001b[0mSIFT_KNN\u001b[0m\u001b[0;34m(\u001b[0m\u001b[0mimg1\u001b[0m\u001b[0;34m,\u001b[0m \u001b[0mimg2\u001b[0m\u001b[0;34m)\u001b[0m\u001b[0;34m:\u001b[0m\u001b[0;34m\u001b[0m\u001b[0;34m\u001b[0m\u001b[0m\n\u001b[0;32m----> 2\u001b[0;31m     \u001b[0mt1\u001b[0m \u001b[0;34m=\u001b[0m \u001b[0mcv2\u001b[0m\u001b[0;34m.\u001b[0m\u001b[0mimread\u001b[0m\u001b[0;34m(\u001b[0m\u001b[0mimg1\u001b[0m\u001b[0;34m,\u001b[0m\u001b[0;36m0\u001b[0m\u001b[0;34m)\u001b[0m\u001b[0;34m\u001b[0m\u001b[0;34m\u001b[0m\u001b[0m\n\u001b[0m\u001b[1;32m      3\u001b[0m     \u001b[0mt2\u001b[0m \u001b[0;34m=\u001b[0m \u001b[0mcv2\u001b[0m\u001b[0;34m.\u001b[0m\u001b[0mimread\u001b[0m\u001b[0;34m(\u001b[0m\u001b[0mimg2\u001b[0m\u001b[0;34m,\u001b[0m\u001b[0;36m0\u001b[0m\u001b[0;34m)\u001b[0m\u001b[0;34m\u001b[0m\u001b[0;34m\u001b[0m\u001b[0m\n\u001b[1;32m      4\u001b[0m \u001b[0;34m\u001b[0m\u001b[0m\n\u001b[1;32m      5\u001b[0m     \u001b[0msift\u001b[0m\u001b[0;34m=\u001b[0m\u001b[0mcv2\u001b[0m\u001b[0;34m.\u001b[0m\u001b[0mxfeatures2d\u001b[0m\u001b[0;34m.\u001b[0m\u001b[0mSURF_create\u001b[0m\u001b[0;34m(\u001b[0m\u001b[0;36m300\u001b[0m\u001b[0;34m,\u001b[0m \u001b[0mextended\u001b[0m\u001b[0;34m=\u001b[0m\u001b[0;32mTrue\u001b[0m\u001b[0;34m)\u001b[0m\u001b[0;34m\u001b[0m\u001b[0;34m\u001b[0m\u001b[0m\n",
      "\u001b[0;31mTypeError\u001b[0m: bad argument type for built-in operation"
     ]
    }
   ],
   "source": [
    "\n",
    "\n",
    "# img1 = \"data/interim/test_data_B_768/query/R89YNJH20AP63WZG.jpg\"\n",
    "# img2 = \"data/interim/test_data_B_768/gallery/03YQZBJW9OV6XS81.jpg\"\n",
    "# img2 = \"data/interim/test_data_B_768/gallery/M6OKR3H8CB4J2A95.jpg\"\n",
    "\n",
    "\n",
    "SIFT_KNN(img1, img2)"
   ]
  },
  {
   "cell_type": "code",
   "execution_count": null,
   "metadata": {},
   "outputs": [],
   "source": []
  },
  {
   "cell_type": "code",
   "execution_count": null,
   "metadata": {},
   "outputs": [],
   "source": []
  }
 ],
 "metadata": {
  "kernelspec": {
   "display_name": "Python 3",
   "language": "python",
   "name": "python3"
  },
  "language_info": {
   "codemirror_mode": {
    "name": "ipython",
    "version": 3
   },
   "file_extension": ".py",
   "mimetype": "text/x-python",
   "name": "python",
   "nbconvert_exporter": "python",
   "pygments_lexer": "ipython3",
   "version": "3.6.9"
  }
 },
 "nbformat": 4,
 "nbformat_minor": 2
}
