{
 "cells": [
  {
   "cell_type": "markdown",
   "metadata": {
    "ExecuteTime": {
     "end_time": "2020-09-09T18:07:35.534005Z",
     "start_time": "2020-09-09T18:07:35.531570Z"
    }
   },
   "source": [
    "## Imports"
   ]
  },
  {
   "cell_type": "code",
   "execution_count": 1,
   "metadata": {
    "ExecuteTime": {
     "end_time": "2020-09-24T08:05:50.247088Z",
     "start_time": "2020-09-24T08:05:48.594221Z"
    }
   },
   "outputs": [],
   "source": [
    "import os\n",
    "import sys\n",
    "import pathlib\n",
    "\n",
    "import cv2\n",
    "import numpy as np\n",
    "import pandas as pd\n",
    "import torch\n",
    "import matplotlib.pyplot as plt\n",
    "\n",
    "import torchvision\n",
    "from tqdm.notebook import tqdm\n",
    "\n",
    "import matplotlib.pyplot as plt \n",
    "import albumentations as albu"
   ]
  },
  {
   "cell_type": "code",
   "execution_count": 2,
   "metadata": {
    "ExecuteTime": {
     "end_time": "2020-09-24T08:05:50.254867Z",
     "start_time": "2020-09-24T08:05:50.248906Z"
    }
   },
   "outputs": [
    {
     "data": {
      "text/html": [
       "<style>.container {width:100% !important;}</style>"
      ],
      "text/plain": [
       "<IPython.core.display.HTML object>"
      ]
     },
     "metadata": {},
     "output_type": "display_data"
    }
   ],
   "source": [
    "from IPython.core.display import display, HTML\n",
    "display(HTML(\"<style>.container {width:100% !important;}</style>\"))\n",
    "\n",
    "# Fix to be able to import python modules inside a notebook\n",
    "os.chdir('..')\n",
    "\n",
    "# Useful extensions\n",
    "# %load_ext watermark\n",
    "# %watermark -v -n -m -p numpy,torch,albumentations,photosynthesis_metrics\n",
    "\n",
    "# %load_ext autoreload\n",
    "# %autoreload 2\n",
    "\n",
    "# Nice plot formating\n",
    "%matplotlib inline"
   ]
  },
  {
   "cell_type": "code",
   "execution_count": 3,
   "metadata": {
    "ExecuteTime": {
     "end_time": "2020-09-24T08:05:50.376856Z",
     "start_time": "2020-09-24T08:05:50.256038Z"
    }
   },
   "outputs": [
    {
     "name": "stdout",
     "output_type": "stream",
     "text": [
      "configs  Makefile    preprocess.py  requirements.txt  train.py\r\n",
      "data\t notebooks   __pycache__    src\r\n",
      "logs\t predict.py  README.md\t    tmp.txt\r\n"
     ]
    }
   ],
   "source": [
    "!ls"
   ]
  },
  {
   "cell_type": "markdown",
   "metadata": {},
   "source": [
    "# Store embeddings as .npy"
   ]
  },
  {
   "cell_type": "code",
   "execution_count": 189,
   "metadata": {
    "ExecuteTime": {
     "end_time": "2020-09-24T15:11:43.020245Z",
     "start_time": "2020-09-24T15:11:41.369294Z"
    }
   },
   "outputs": [
    {
     "data": {
      "text/html": [
       "<div>\n",
       "<style scoped>\n",
       "    .dataframe tbody tr th:only-of-type {\n",
       "        vertical-align: middle;\n",
       "    }\n",
       "\n",
       "    .dataframe tbody tr th {\n",
       "        vertical-align: top;\n",
       "    }\n",
       "\n",
       "    .dataframe thead th {\n",
       "        text-align: right;\n",
       "    }\n",
       "</style>\n",
       "<table border=\"1\" class=\"dataframe\">\n",
       "  <thead>\n",
       "    <tr style=\"text-align: right;\">\n",
       "      <th></th>\n",
       "      <th>file_path</th>\n",
       "      <th>label</th>\n",
       "      <th>full_path</th>\n",
       "      <th>hash_md5</th>\n",
       "      <th>original_size</th>\n",
       "      <th>aspect_ratio</th>\n",
       "      <th>is_train</th>\n",
       "      <th>is_query</th>\n",
       "      <th>embeddings</th>\n",
       "    </tr>\n",
       "  </thead>\n",
       "  <tbody>\n",
       "    <tr>\n",
       "      <th>0</th>\n",
       "      <td>DIGIX_000000/19BRS2LZXV4M865W.jpg</td>\n",
       "      <td>0</td>\n",
       "      <td>data/raw/train_data/DIGIX_000000/19BRS2LZXV4M8...</td>\n",
       "      <td>b2a51756bcc2747e9c2b1705e2698c48</td>\n",
       "      <td>(1080, 1440)</td>\n",
       "      <td>0.7500</td>\n",
       "      <td>False</td>\n",
       "      <td>True</td>\n",
       "      <td>[0.05527299642562866, -0.02226325124502182, 0....</td>\n",
       "    </tr>\n",
       "    <tr>\n",
       "      <th>1</th>\n",
       "      <td>DIGIX_000000/7WMZS8Q2V06E54FL.jpg</td>\n",
       "      <td>0</td>\n",
       "      <td>data/raw/train_data/DIGIX_000000/7WMZS8Q2V06E5...</td>\n",
       "      <td>06c03ce2c568bc0d27db07c8e5535f8d</td>\n",
       "      <td>(1368, 1824)</td>\n",
       "      <td>0.7500</td>\n",
       "      <td>False</td>\n",
       "      <td>False</td>\n",
       "      <td>[0.014345978386700153, -0.002005089307203889, ...</td>\n",
       "    </tr>\n",
       "    <tr>\n",
       "      <th>2</th>\n",
       "      <td>DIGIX_000000/9WS85AHRBXKGOQED.jpg</td>\n",
       "      <td>0</td>\n",
       "      <td>data/raw/train_data/DIGIX_000000/9WS85AHRBXKGO...</td>\n",
       "      <td>b8df6b3a7ede7d9e71ac8433236e4a56</td>\n",
       "      <td>(1080, 1440)</td>\n",
       "      <td>0.7500</td>\n",
       "      <td>False</td>\n",
       "      <td>False</td>\n",
       "      <td>[0.037044163793325424, -0.04289752244949341, 0...</td>\n",
       "    </tr>\n",
       "    <tr>\n",
       "      <th>3</th>\n",
       "      <td>DIGIX_000000/BWYUXPDGAJFQ05ZV.jpg</td>\n",
       "      <td>0</td>\n",
       "      <td>data/raw/train_data/DIGIX_000000/BWYUXPDGAJFQ0...</td>\n",
       "      <td>163b7f61d176093a804b1836a9a445d3</td>\n",
       "      <td>(1078, 1440)</td>\n",
       "      <td>0.7486</td>\n",
       "      <td>False</td>\n",
       "      <td>False</td>\n",
       "      <td>[0.0006333903293125331, 0.022377224639058113, ...</td>\n",
       "    </tr>\n",
       "    <tr>\n",
       "      <th>4</th>\n",
       "      <td>DIGIX_000000/D02Y6MGNLV3JABXW.jpg</td>\n",
       "      <td>0</td>\n",
       "      <td>data/raw/train_data/DIGIX_000000/D02Y6MGNLV3JA...</td>\n",
       "      <td>9ef30057a09c240e8908b124586ad29f</td>\n",
       "      <td>(2736, 3648)</td>\n",
       "      <td>0.7500</td>\n",
       "      <td>False</td>\n",
       "      <td>False</td>\n",
       "      <td>[0.047589678317308426, 0.04539687931537628, 0....</td>\n",
       "    </tr>\n",
       "  </tbody>\n",
       "</table>\n",
       "</div>"
      ],
      "text/plain": [
       "                           file_path  label  \\\n",
       "0  DIGIX_000000/19BRS2LZXV4M865W.jpg      0   \n",
       "1  DIGIX_000000/7WMZS8Q2V06E54FL.jpg      0   \n",
       "2  DIGIX_000000/9WS85AHRBXKGOQED.jpg      0   \n",
       "3  DIGIX_000000/BWYUXPDGAJFQ05ZV.jpg      0   \n",
       "4  DIGIX_000000/D02Y6MGNLV3JABXW.jpg      0   \n",
       "\n",
       "                                           full_path  \\\n",
       "0  data/raw/train_data/DIGIX_000000/19BRS2LZXV4M8...   \n",
       "1  data/raw/train_data/DIGIX_000000/7WMZS8Q2V06E5...   \n",
       "2  data/raw/train_data/DIGIX_000000/9WS85AHRBXKGO...   \n",
       "3  data/raw/train_data/DIGIX_000000/BWYUXPDGAJFQ0...   \n",
       "4  data/raw/train_data/DIGIX_000000/D02Y6MGNLV3JA...   \n",
       "\n",
       "                           hash_md5 original_size  aspect_ratio  is_train  \\\n",
       "0  b2a51756bcc2747e9c2b1705e2698c48  (1080, 1440)        0.7500     False   \n",
       "1  06c03ce2c568bc0d27db07c8e5535f8d  (1368, 1824)        0.7500     False   \n",
       "2  b8df6b3a7ede7d9e71ac8433236e4a56  (1080, 1440)        0.7500     False   \n",
       "3  163b7f61d176093a804b1836a9a445d3  (1078, 1440)        0.7486     False   \n",
       "4  9ef30057a09c240e8908b124586ad29f  (2736, 3648)        0.7500     False   \n",
       "\n",
       "   is_query                                         embeddings  \n",
       "0      True  [0.05527299642562866, -0.02226325124502182, 0....  \n",
       "1     False  [0.014345978386700153, -0.002005089307203889, ...  \n",
       "2     False  [0.037044163793325424, -0.04289752244949341, 0...  \n",
       "3     False  [0.0006333903293125331, 0.022377224639058113, ...  \n",
       "4     False  [0.047589678317308426, 0.04539687931537628, 0....  "
      ]
     },
     "execution_count": 189,
     "metadata": {},
     "output_type": "execute_result"
    }
   ],
   "source": [
    "df = pd.read_csv(\"logs/genet_normal_384_hard_arcface80_15/train_val.csv\")\n",
    "df.head()"
   ]
  },
  {
   "cell_type": "code",
   "execution_count": 190,
   "metadata": {
    "ExecuteTime": {
     "end_time": "2020-09-24T15:11:58.626583Z",
     "start_time": "2020-09-24T15:11:43.564866Z"
    }
   },
   "outputs": [],
   "source": [
    "val_embeddings = torch.tensor(list(map(eval, df[\"embeddings\"].values)))"
   ]
  },
  {
   "cell_type": "code",
   "execution_count": 194,
   "metadata": {
    "ExecuteTime": {
     "end_time": "2020-09-24T15:15:42.535045Z",
     "start_time": "2020-09-24T15:15:42.394405Z"
    }
   },
   "outputs": [],
   "source": [
    "data = {\n",
    "    \"embeddings\": val_embeddings,\n",
    "    \"index\": np.arange(len(val_embeddings))\n",
    "}\n",
    "np.save(\"logs/genet_normal_384_hard_arcface80_15/val_embeddings.npy\", data)"
   ]
  },
  {
   "cell_type": "code",
   "execution_count": 198,
   "metadata": {
    "ExecuteTime": {
     "end_time": "2020-09-24T15:34:58.689621Z",
     "start_time": "2020-09-24T15:34:58.606200Z"
    }
   },
   "outputs": [],
   "source": [
    "data = np.load(\"logs/genet_normal_384_hard_arcface80_15/val_embeddings.npy\", allow_pickle=True)"
   ]
  },
  {
   "cell_type": "code",
   "execution_count": 208,
   "metadata": {
    "ExecuteTime": {
     "end_time": "2020-09-24T15:37:08.477664Z",
     "start_time": "2020-09-24T15:37:08.467535Z"
    }
   },
   "outputs": [
    {
     "data": {
      "text/plain": [
       "{'embeddings': array([[ 0.055273  , -0.02226325,  0.03325599, ...,  0.02732552,\n",
       "         -0.02888568,  0.01831377],\n",
       "        [ 0.01434598, -0.00200509,  0.06059453, ...,  0.091722  ,\n",
       "         -0.04650832, -0.02771214],\n",
       "        [ 0.03704416, -0.04289752,  0.08048323, ...,  0.06726942,\n",
       "         -0.03850769, -0.03267699],\n",
       "        ...,\n",
       "        [-0.025825  ,  0.05240931, -0.04923972, ..., -0.05179172,\n",
       "          0.00763657, -0.00634171],\n",
       "        [-0.02853927,  0.03427675, -0.06339592, ..., -0.04818422,\n",
       "         -0.00210724, -0.03128156],\n",
       "        [-0.01696584,  0.02949731, -0.01899906, ..., -0.07126053,\n",
       "          0.00232139, -0.01396275]], dtype=float32),\n",
       " 'indexes': [0,\n",
       "  3,\n",
       "  5,\n",
       "  6,\n",
       "  7,\n",
       "  8,\n",
       "  9,\n",
       "  10,\n",
       "  11,\n",
       "  12,\n",
       "  13,\n",
       "  14,\n",
       "  16,\n",
       "  17,\n",
       "  18,\n",
       "  19,\n",
       "  20,\n",
       "  22,\n",
       "  27,\n",
       "  28,\n",
       "  33,\n",
       "  36,\n",
       "  38,\n",
       "  43,\n",
       "  44,\n",
       "  47,\n",
       "  49,\n",
       "  50,\n",
       "  52,\n",
       "  53,\n",
       "  60,\n",
       "  61,\n",
       "  68,\n",
       "  70,\n",
       "  75,\n",
       "  76,\n",
       "  79,\n",
       "  82,\n",
       "  85,\n",
       "  87,\n",
       "  88,\n",
       "  91,\n",
       "  98,\n",
       "  102,\n",
       "  103,\n",
       "  104,\n",
       "  107,\n",
       "  110,\n",
       "  119,\n",
       "  129,\n",
       "  133,\n",
       "  137,\n",
       "  138,\n",
       "  140,\n",
       "  141,\n",
       "  151,\n",
       "  156,\n",
       "  159,\n",
       "  170,\n",
       "  175,\n",
       "  176,\n",
       "  177,\n",
       "  180,\n",
       "  185,\n",
       "  1,\n",
       "  2,\n",
       "  4,\n",
       "  15,\n",
       "  21,\n",
       "  26,\n",
       "  29,\n",
       "  30,\n",
       "  31,\n",
       "  32,\n",
       "  39,\n",
       "  41,\n",
       "  45,\n",
       "  46,\n",
       "  63,\n",
       "  84,\n",
       "  86,\n",
       "  90,\n",
       "  94,\n",
       "  101,\n",
       "  111,\n",
       "  112,\n",
       "  113,\n",
       "  115,\n",
       "  117,\n",
       "  118,\n",
       "  120,\n",
       "  121,\n",
       "  124,\n",
       "  127,\n",
       "  128,\n",
       "  136,\n",
       "  161,\n",
       "  166,\n",
       "  167,\n",
       "  181,\n",
       "  227,\n",
       "  228,\n",
       "  233,\n",
       "  243,\n",
       "  262,\n",
       "  264,\n",
       "  275,\n",
       "  286,\n",
       "  319,\n",
       "  321,\n",
       "  324,\n",
       "  328,\n",
       "  335,\n",
       "  339,\n",
       "  341,\n",
       "  347,\n",
       "  376,\n",
       "  391,\n",
       "  392,\n",
       "  396,\n",
       "  412,\n",
       "  422,\n",
       "  427,\n",
       "  460,\n",
       "  474,\n",
       "  475,\n",
       "  482,\n",
       "  485,\n",
       "  23,\n",
       "  24,\n",
       "  25,\n",
       "  37,\n",
       "  48,\n",
       "  58,\n",
       "  66,\n",
       "  71,\n",
       "  80,\n",
       "  89,\n",
       "  92,\n",
       "  93,\n",
       "  96,\n",
       "  97,\n",
       "  99,\n",
       "  105,\n",
       "  143,\n",
       "  144,\n",
       "  169,\n",
       "  171,\n",
       "  178,\n",
       "  179,\n",
       "  186,\n",
       "  188,\n",
       "  194,\n",
       "  199,\n",
       "  203,\n",
       "  206,\n",
       "  207,\n",
       "  210,\n",
       "  215,\n",
       "  223,\n",
       "  229,\n",
       "  241,\n",
       "  257,\n",
       "  261,\n",
       "  278,\n",
       "  291,\n",
       "  298,\n",
       "  305,\n",
       "  346,\n",
       "  351,\n",
       "  352,\n",
       "  354,\n",
       "  366,\n",
       "  368,\n",
       "  369,\n",
       "  370,\n",
       "  378,\n",
       "  388,\n",
       "  389,\n",
       "  393,\n",
       "  394,\n",
       "  399,\n",
       "  404,\n",
       "  405,\n",
       "  409,\n",
       "  413,\n",
       "  418,\n",
       "  421,\n",
       "  439,\n",
       "  442,\n",
       "  443,\n",
       "  445,\n",
       "  34,\n",
       "  225,\n",
       "  377,\n",
       "  383,\n",
       "  395,\n",
       "  400,\n",
       "  448,\n",
       "  494,\n",
       "  599,\n",
       "  606,\n",
       "  941,\n",
       "  962,\n",
       "  1014,\n",
       "  1028,\n",
       "  1043,\n",
       "  1389,\n",
       "  1664,\n",
       "  1801,\n",
       "  1809,\n",
       "  1821,\n",
       "  1909,\n",
       "  2103,\n",
       "  2107,\n",
       "  2108,\n",
       "  2115,\n",
       "  2779,\n",
       "  2791,\n",
       "  2842,\n",
       "  2981,\n",
       "  2983,\n",
       "  3025,\n",
       "  3026,\n",
       "  3091,\n",
       "  3112,\n",
       "  3222,\n",
       "  3486,\n",
       "  3491,\n",
       "  3493,\n",
       "  3552,\n",
       "  3554,\n",
       "  3719,\n",
       "  3747,\n",
       "  3783,\n",
       "  4135,\n",
       "  4137,\n",
       "  4140,\n",
       "  4217,\n",
       "  4225,\n",
       "  4276,\n",
       "  4277,\n",
       "  4278,\n",
       "  4279,\n",
       "  4280,\n",
       "  4281,\n",
       "  4282,\n",
       "  4283,\n",
       "  4284,\n",
       "  4285,\n",
       "  4286,\n",
       "  4287,\n",
       "  4288,\n",
       "  4289,\n",
       "  4290,\n",
       "  4291,\n",
       "  35,\n",
       "  42,\n",
       "  132,\n",
       "  231,\n",
       "  342,\n",
       "  350,\n",
       "  384,\n",
       "  478,\n",
       "  530,\n",
       "  885,\n",
       "  1069,\n",
       "  1072,\n",
       "  1307,\n",
       "  1313,\n",
       "  1388,\n",
       "  1398,\n",
       "  1496,\n",
       "  1500,\n",
       "  1544,\n",
       "  1545,\n",
       "  1548,\n",
       "  1637,\n",
       "  1638,\n",
       "  1640,\n",
       "  1642,\n",
       "  1651,\n",
       "  1654,\n",
       "  1656,\n",
       "  1661,\n",
       "  1665,\n",
       "  1856,\n",
       "  1900,\n",
       "  1901,\n",
       "  2111,\n",
       "  2219,\n",
       "  2233,\n",
       "  2447,\n",
       "  2449,\n",
       "  2462,\n",
       "  2465,\n",
       "  2482,\n",
       "  2485,\n",
       "  2505,\n",
       "  2652,\n",
       "  2823,\n",
       "  2847,\n",
       "  2855,\n",
       "  2994,\n",
       "  3008,\n",
       "  3020,\n",
       "  3121,\n",
       "  3194,\n",
       "  3235,\n",
       "  3479,\n",
       "  3483,\n",
       "  3489,\n",
       "  3497,\n",
       "  3499,\n",
       "  3503,\n",
       "  3522,\n",
       "  3526,\n",
       "  3530,\n",
       "  3680,\n",
       "  3739,\n",
       "  40,\n",
       "  77,\n",
       "  81,\n",
       "  134,\n",
       "  135,\n",
       "  142,\n",
       "  148,\n",
       "  149,\n",
       "  153,\n",
       "  158,\n",
       "  162,\n",
       "  165,\n",
       "  184,\n",
       "  204,\n",
       "  256,\n",
       "  258,\n",
       "  259,\n",
       "  304,\n",
       "  311,\n",
       "  312,\n",
       "  330,\n",
       "  387,\n",
       "  432,\n",
       "  435,\n",
       "  466,\n",
       "  592,\n",
       "  600,\n",
       "  603,\n",
       "  609,\n",
       "  644,\n",
       "  661,\n",
       "  682,\n",
       "  686,\n",
       "  731,\n",
       "  765,\n",
       "  816,\n",
       "  820,\n",
       "  824,\n",
       "  828,\n",
       "  932,\n",
       "  951,\n",
       "  955,\n",
       "  969,\n",
       "  972,\n",
       "  982,\n",
       "  999,\n",
       "  1074,\n",
       "  1085,\n",
       "  1090,\n",
       "  1091,\n",
       "  1092,\n",
       "  1093,\n",
       "  1094,\n",
       "  1098,\n",
       "  1102,\n",
       "  1107,\n",
       "  1112,\n",
       "  1116,\n",
       "  1119,\n",
       "  1123,\n",
       "  1126,\n",
       "  1132,\n",
       "  1133,\n",
       "  1137,\n",
       "  51,\n",
       "  54,\n",
       "  55,\n",
       "  56,\n",
       "  57,\n",
       "  59,\n",
       "  62,\n",
       "  65,\n",
       "  67,\n",
       "  69,\n",
       "  72,\n",
       "  73,\n",
       "  74,\n",
       "  83,\n",
       "  95,\n",
       "  100,\n",
       "  106,\n",
       "  108,\n",
       "  123,\n",
       "  126,\n",
       "  130,\n",
       "  146,\n",
       "  150,\n",
       "  155,\n",
       "  157,\n",
       "  163,\n",
       "  164,\n",
       "  168,\n",
       "  172,\n",
       "  173,\n",
       "  183,\n",
       "  187,\n",
       "  189,\n",
       "  190,\n",
       "  191,\n",
       "  192,\n",
       "  193,\n",
       "  195,\n",
       "  197,\n",
       "  200,\n",
       "  201,\n",
       "  202,\n",
       "  205,\n",
       "  211,\n",
       "  216,\n",
       "  217,\n",
       "  218,\n",
       "  221,\n",
       "  222,\n",
       "  234,\n",
       "  247,\n",
       "  253,\n",
       "  287,\n",
       "  288,\n",
       "  293,\n",
       "  296,\n",
       "  300,\n",
       "  301,\n",
       "  313,\n",
       "  316,\n",
       "  320,\n",
       "  326,\n",
       "  331,\n",
       "  332,\n",
       "  64,\n",
       "  122,\n",
       "  125,\n",
       "  139,\n",
       "  147,\n",
       "  152,\n",
       "  154,\n",
       "  209,\n",
       "  212,\n",
       "  236,\n",
       "  240,\n",
       "  242,\n",
       "  246,\n",
       "  248,\n",
       "  249,\n",
       "  308,\n",
       "  536,\n",
       "  548,\n",
       "  604,\n",
       "  800,\n",
       "  810,\n",
       "  847,\n",
       "  849,\n",
       "  851,\n",
       "  852,\n",
       "  939,\n",
       "  942,\n",
       "  943,\n",
       "  945,\n",
       "  970,\n",
       "  979,\n",
       "  1159,\n",
       "  1245,\n",
       "  1250,\n",
       "  1266,\n",
       "  1377,\n",
       "  1378,\n",
       "  1402,\n",
       "  1416,\n",
       "  1461,\n",
       "  1467,\n",
       "  1897,\n",
       "  2088,\n",
       "  2096,\n",
       "  2191,\n",
       "  2293,\n",
       "  2326,\n",
       "  2393,\n",
       "  2517,\n",
       "  2527,\n",
       "  2530,\n",
       "  2535,\n",
       "  2578,\n",
       "  2751,\n",
       "  2765,\n",
       "  2810,\n",
       "  2883,\n",
       "  2887,\n",
       "  2901,\n",
       "  2918,\n",
       "  2975,\n",
       "  2997,\n",
       "  3000,\n",
       "  3018,\n",
       "  78,\n",
       "  160,\n",
       "  174,\n",
       "  182,\n",
       "  224,\n",
       "  226,\n",
       "  230,\n",
       "  232,\n",
       "  314,\n",
       "  337,\n",
       "  470,\n",
       "  481,\n",
       "  492,\n",
       "  503,\n",
       "  504,\n",
       "  506,\n",
       "  596,\n",
       "  822,\n",
       "  874,\n",
       "  876,\n",
       "  893,\n",
       "  894,\n",
       "  910,\n",
       "  914,\n",
       "  944,\n",
       "  1146,\n",
       "  1166,\n",
       "  1176,\n",
       "  1215,\n",
       "  1233,\n",
       "  1374,\n",
       "  1382,\n",
       "  1412,\n",
       "  1441,\n",
       "  1476,\n",
       "  1682,\n",
       "  1786,\n",
       "  2188,\n",
       "  2201,\n",
       "  2281,\n",
       "  2286,\n",
       "  2290,\n",
       "  2301,\n",
       "  2302,\n",
       "  2315,\n",
       "  2320,\n",
       "  2321,\n",
       "  2702,\n",
       "  2745,\n",
       "  2753,\n",
       "  2759,\n",
       "  2854,\n",
       "  3013,\n",
       "  3117,\n",
       "  3221,\n",
       "  3300,\n",
       "  3480,\n",
       "  3548,\n",
       "  3558,\n",
       "  3862,\n",
       "  3879,\n",
       "  3880,\n",
       "  3940,\n",
       "  3946,\n",
       "  109,\n",
       "  131,\n",
       "  401,\n",
       "  406,\n",
       "  446,\n",
       "  455,\n",
       "  457,\n",
       "  465,\n",
       "  493,\n",
       "  593,\n",
       "  598,\n",
       "  616,\n",
       "  956,\n",
       "  981,\n",
       "  1175,\n",
       "  1197,\n",
       "  1321,\n",
       "  1474,\n",
       "  1813,\n",
       "  2112,\n",
       "  2168,\n",
       "  2224,\n",
       "  2228,\n",
       "  2252,\n",
       "  2256,\n",
       "  2261,\n",
       "  2277,\n",
       "  2278,\n",
       "  2285,\n",
       "  2287,\n",
       "  2300,\n",
       "  2307,\n",
       "  2310,\n",
       "  2790,\n",
       "  2843,\n",
       "  2848,\n",
       "  2962,\n",
       "  3069,\n",
       "  3113,\n",
       "  3145,\n",
       "  3275,\n",
       "  3549,\n",
       "  3557,\n",
       "  3708,\n",
       "  3726,\n",
       "  3737,\n",
       "  3765,\n",
       "  3870,\n",
       "  3928,\n",
       "  4006,\n",
       "  4082,\n",
       "  4104,\n",
       "  4121,\n",
       "  4138,\n",
       "  4156,\n",
       "  4160,\n",
       "  4178,\n",
       "  4196,\n",
       "  5024,\n",
       "  5025,\n",
       "  5026,\n",
       "  5031,\n",
       "  5034,\n",
       "  5536,\n",
       "  114,\n",
       "  116,\n",
       "  145,\n",
       "  239,\n",
       "  245,\n",
       "  250,\n",
       "  251,\n",
       "  490,\n",
       "  543,\n",
       "  557,\n",
       "  558,\n",
       "  579,\n",
       "  619,\n",
       "  738,\n",
       "  781,\n",
       "  788,\n",
       "  805,\n",
       "  813,\n",
       "  814,\n",
       "  830,\n",
       "  836,\n",
       "  837,\n",
       "  842,\n",
       "  844,\n",
       "  854,\n",
       "  858,\n",
       "  859,\n",
       "  933,\n",
       "  1070,\n",
       "  1077,\n",
       "  1230,\n",
       "  1312,\n",
       "  1376,\n",
       "  1380,\n",
       "  1414,\n",
       "  1457,\n",
       "  1468,\n",
       "  1482,\n",
       "  1505,\n",
       "  1506,\n",
       "  1719,\n",
       "  1796,\n",
       "  1826,\n",
       "  1835,\n",
       "  1846,\n",
       "  1864,\n",
       "  1902,\n",
       "  1907,\n",
       "  1908,\n",
       "  1914,\n",
       "  1916,\n",
       "  1935,\n",
       "  2106,\n",
       "  2146,\n",
       "  2148,\n",
       "  2150,\n",
       "  2155,\n",
       "  2158,\n",
       "  2206,\n",
       "  2229,\n",
       "  2242,\n",
       "  2245,\n",
       "  2299,\n",
       "  2324,\n",
       "  196,\n",
       "  198,\n",
       "  208,\n",
       "  213,\n",
       "  214,\n",
       "  219,\n",
       "  220,\n",
       "  235,\n",
       "  237,\n",
       "  238,\n",
       "  244,\n",
       "  252,\n",
       "  254,\n",
       "  255,\n",
       "  260,\n",
       "  263,\n",
       "  265,\n",
       "  266,\n",
       "  267,\n",
       "  268,\n",
       "  269,\n",
       "  270,\n",
       "  271,\n",
       "  272,\n",
       "  273,\n",
       "  274,\n",
       "  276,\n",
       "  277,\n",
       "  279,\n",
       "  280,\n",
       "  281,\n",
       "  282,\n",
       "  283,\n",
       "  284,\n",
       "  285,\n",
       "  289,\n",
       "  290,\n",
       "  292,\n",
       "  294,\n",
       "  295,\n",
       "  297,\n",
       "  299,\n",
       "  302,\n",
       "  303,\n",
       "  306,\n",
       "  307,\n",
       "  309,\n",
       "  310,\n",
       "  315,\n",
       "  317,\n",
       "  318,\n",
       "  322,\n",
       "  323,\n",
       "  325,\n",
       "  327,\n",
       "  329,\n",
       "  343,\n",
       "  344,\n",
       "  345,\n",
       "  348,\n",
       "  349,\n",
       "  353,\n",
       "  355,\n",
       "  356,\n",
       "  333,\n",
       "  334,\n",
       "  336,\n",
       "  338,\n",
       "  340,\n",
       "  386,\n",
       "  390,\n",
       "  417,\n",
       "  420,\n",
       "  424,\n",
       "  426,\n",
       "  430,\n",
       "  438,\n",
       "  444,\n",
       "  467,\n",
       "  477,\n",
       "  505,\n",
       "  508,\n",
       "  509,\n",
       "  528,\n",
       "  535,\n",
       "  537,\n",
       "  539,\n",
       "  541,\n",
       "  544,\n",
       "  549,\n",
       "  556,\n",
       "  559,\n",
       "  562,\n",
       "  563,\n",
       "  567,\n",
       "  568,\n",
       "  569,\n",
       "  570,\n",
       "  571,\n",
       "  572,\n",
       "  573,\n",
       "  574,\n",
       "  575,\n",
       "  576,\n",
       "  578,\n",
       "  580,\n",
       "  582,\n",
       "  583,\n",
       "  584,\n",
       "  586,\n",
       "  587,\n",
       "  588,\n",
       "  589,\n",
       "  590,\n",
       "  591,\n",
       "  594,\n",
       "  595,\n",
       "  601,\n",
       "  602,\n",
       "  605,\n",
       "  610,\n",
       "  618,\n",
       "  620,\n",
       "  621,\n",
       "  625,\n",
       "  628,\n",
       "  631,\n",
       "  640,\n",
       "  357,\n",
       "  358,\n",
       "  359,\n",
       "  360,\n",
       "  361,\n",
       "  362,\n",
       "  363,\n",
       "  364,\n",
       "  365,\n",
       "  367,\n",
       "  371,\n",
       "  372,\n",
       "  373,\n",
       "  374,\n",
       "  375,\n",
       "  379,\n",
       "  380,\n",
       "  381,\n",
       "  382,\n",
       "  385,\n",
       "  397,\n",
       "  398,\n",
       "  402,\n",
       "  403,\n",
       "  407,\n",
       "  408,\n",
       "  410,\n",
       "  411,\n",
       "  414,\n",
       "  415,\n",
       "  416,\n",
       "  419,\n",
       "  423,\n",
       "  425,\n",
       "  428,\n",
       "  429,\n",
       "  431,\n",
       "  433,\n",
       "  434,\n",
       "  436,\n",
       "  437,\n",
       "  440,\n",
       "  441,\n",
       "  450,\n",
       "  458,\n",
       "  459,\n",
       "  462,\n",
       "  463,\n",
       "  469,\n",
       "  473,\n",
       "  476,\n",
       "  484,\n",
       "  488,\n",
       "  489,\n",
       "  495,\n",
       "  499,\n",
       "  500,\n",
       "  501,\n",
       "  507,\n",
       "  511,\n",
       "  512,\n",
       "  513,\n",
       "  515,\n",
       "  516,\n",
       "  447,\n",
       "  449,\n",
       "  451,\n",
       "  452,\n",
       "  453,\n",
       "  454,\n",
       "  456,\n",
       "  461,\n",
       "  464,\n",
       "  468,\n",
       "  471,\n",
       "  472,\n",
       "  479,\n",
       "  480,\n",
       "  483,\n",
       "  486,\n",
       "  497,\n",
       "  498,\n",
       "  502,\n",
       "  514,\n",
       "  612,\n",
       "  636,\n",
       "  639,\n",
       "  664,\n",
       "  669,\n",
       "  672,\n",
       "  689,\n",
       "  704,\n",
       "  725,\n",
       "  727,\n",
       "  730,\n",
       "  732,\n",
       "  747,\n",
       "  753,\n",
       "  764,\n",
       "  792,\n",
       "  806,\n",
       "  818,\n",
       "  838,\n",
       "  867,\n",
       "  869,\n",
       "  871,\n",
       "  872,\n",
       "  873,\n",
       "  879,\n",
       "  880,\n",
       "  886,\n",
       "  888,\n",
       "  889,\n",
       "  890,\n",
       "  896,\n",
       "  911,\n",
       "  920,\n",
       "  922,\n",
       "  925,\n",
       "  926,\n",
       "  935,\n",
       "  937,\n",
       "  938,\n",
       "  946,\n",
       "  948,\n",
       "  949,\n",
       "  950,\n",
       "  957,\n",
       "  487,\n",
       "  491,\n",
       "  496,\n",
       "  510,\n",
       "  524,\n",
       "  527,\n",
       "  529,\n",
       "  615,\n",
       "  617,\n",
       "  630,\n",
       "  650,\n",
       "  667,\n",
       "  675,\n",
       "  707,\n",
       "  782,\n",
       "  815,\n",
       "  823,\n",
       "  829,\n",
       "  831,\n",
       "  832,\n",
       "  833,\n",
       "  835,\n",
       "  839,\n",
       "  840,\n",
       "  841,\n",
       "  848,\n",
       "  855,\n",
       "  860,\n",
       "  891,\n",
       "  899,\n",
       "  906,\n",
       "  909,\n",
       "  916,\n",
       "  919,\n",
       "  921,\n",
       "  936,\n",
       "  940,\n",
       "  947,\n",
       "  954,\n",
       "  959,\n",
       "  ...]}"
      ]
     },
     "execution_count": 208,
     "metadata": {},
     "output_type": "execute_result"
    }
   ],
   "source": [
    "data.item()"
   ]
  },
  {
   "cell_type": "code",
   "execution_count": null,
   "metadata": {},
   "outputs": [],
   "source": []
  },
  {
   "cell_type": "code",
   "execution_count": 184,
   "metadata": {
    "ExecuteTime": {
     "end_time": "2020-09-24T15:06:59.164731Z",
     "start_time": "2020-09-24T15:06:59.149845Z"
    }
   },
   "outputs": [],
   "source": [
    "from ipywidgets import interact, interactive, fixed, interact_manual\n",
    "def show_predictions(query_idx, config_path, dba=False, aqe=False, diffusion=False, size=384):\n",
    "    \"\"\"Plots predictions from submission.csv\"\"\"\n",
    "    filename =  f\"submission{'_dba' if dba else ''}{'_aqe' if aqe else ''}_{size}.csv\"\n",
    "    df = pd.read_csv(\n",
    "        pathlib.Path(config_path) / filename, header=None)\n",
    "    df[1] = df[1].apply(lambda x: x[1:])\n",
    "    df[10] = df[10].apply(lambda x: x[:-1])\n",
    "    # Sort, so that results indexes are always same\n",
    "    df.sort_values(by=0, inplace=True)\n",
    "    query_file = os.path.join(\"data/interim/test_data_A_384/query\", df.iloc[query_idx].values[0])\n",
    "    gallery_files = [os.path.join(\"data/interim/test_data_A_384/gallery\", path) for path in df.iloc[query_idx].values[1:]]\n",
    "#     print(query_file, \"\\n\", gallery_files)\n",
    "    query = cv2.imread(query_file)\n",
    "    query = cv2.cvtColor(query, cv2.COLOR_BGR2RGB)\n",
    "    \n",
    "    plt.figure(figsize=(20,15))\n",
    "    plt.subplot(1, 11, 1)\n",
    "    plt.imshow(query)\n",
    "    for i in range(10):\n",
    "        image = cv2.imread(gallery_files[i])\n",
    "        image = cv2.cvtColor(image, cv2.COLOR_BGR2RGB)\n",
    "        plt.subplot(1, 11, i + 1)\n",
    "        plt.imshow(image)"
   ]
  },
  {
   "cell_type": "code",
   "execution_count": null,
   "metadata": {},
   "outputs": [],
   "source": [
    "CONFIG_PATH = pathlib.Path(\"logs/genet_small_384_light_arcface80_1/\") \n",
    "SIZE = 384\n",
    "\n",
    "interact_manual(show_predictions, config_path=fixed(CONFIG_PATH), query_idx=(0,9599),)"
   ]
  },
  {
   "cell_type": "code",
   "execution_count": 183,
   "metadata": {
    "ExecuteTime": {
     "end_time": "2020-09-24T14:23:48.820163Z",
     "start_time": "2020-09-24T14:23:48.569741Z"
    }
   },
   "outputs": [
    {
     "name": "stdout",
     "output_type": "stream",
     "text": [
      "58666\n"
     ]
    },
    {
     "data": {
      "text/html": [
       "<div>\n",
       "<style scoped>\n",
       "    .dataframe tbody tr th:only-of-type {\n",
       "        vertical-align: middle;\n",
       "    }\n",
       "\n",
       "    .dataframe tbody tr th {\n",
       "        vertical-align: top;\n",
       "    }\n",
       "\n",
       "    .dataframe thead th {\n",
       "        text-align: right;\n",
       "    }\n",
       "</style>\n",
       "<table border=\"1\" class=\"dataframe\">\n",
       "  <thead>\n",
       "    <tr style=\"text-align: right;\">\n",
       "      <th></th>\n",
       "      <th>0</th>\n",
       "      <th>1</th>\n",
       "      <th>2</th>\n",
       "      <th>3</th>\n",
       "      <th>4</th>\n",
       "      <th>5</th>\n",
       "      <th>6</th>\n",
       "      <th>7</th>\n",
       "      <th>8</th>\n",
       "      <th>9</th>\n",
       "      <th>10</th>\n",
       "    </tr>\n",
       "  </thead>\n",
       "  <tbody>\n",
       "    <tr>\n",
       "      <th>0</th>\n",
       "      <td>0167QIBDLWNZCG3A.jpg</td>\n",
       "      <td>{B2Q6TNU3AMXZWKI8.jpg</td>\n",
       "      <td>I69S3EJ5MXZWQN7T.jpg</td>\n",
       "      <td>8G9PHDZ0O2BUYI7F.jpg</td>\n",
       "      <td>0Y8Z9FIKGO5U3T4B.jpg</td>\n",
       "      <td>ZHBI19SKYFMVJW6N.jpg</td>\n",
       "      <td>YOKBGC0S8HATZJQ6.jpg</td>\n",
       "      <td>T7NCBD0MWQPKIZ5U.jpg</td>\n",
       "      <td>SHMKOEN7TV4G0F5Q.jpg</td>\n",
       "      <td>PQEYBVK9RH41A837.jpg</td>\n",
       "      <td>GF63ZY0OUKIB4VLX.jpg}</td>\n",
       "    </tr>\n",
       "    <tr>\n",
       "      <th>1</th>\n",
       "      <td>026FVTYGZO9QS7WP.jpg</td>\n",
       "      <td>{IDY5T0V23MJ1L4EU.jpg</td>\n",
       "      <td>U2DXSWV6F4I1RBON.jpg</td>\n",
       "      <td>VYNZEQGLKOJPTU98.jpg</td>\n",
       "      <td>ZBU89GYN5QH3SXA1.jpg</td>\n",
       "      <td>VT9Y0X2IUC8BAGZ5.jpg</td>\n",
       "      <td>U7MNFPJ08O1KICDS.jpg</td>\n",
       "      <td>VX7NKEFPQYJ3AW1D.jpg</td>\n",
       "      <td>SPNABG8HX5934WIK.jpg</td>\n",
       "      <td>N2V5SH0QMUEZG13D.jpg</td>\n",
       "      <td>LE25NC931U76XV8Q.jpg}</td>\n",
       "    </tr>\n",
       "    <tr>\n",
       "      <th>2</th>\n",
       "      <td>02JQF4KT5I3WUAV1.jpg</td>\n",
       "      <td>{J0K7TS3M6NEYP1VL.jpg</td>\n",
       "      <td>XBCM09JY46F2183L.jpg</td>\n",
       "      <td>B8N2XJIKPLDFQOW4.jpg</td>\n",
       "      <td>4A9THO7W8NRKQLBU.jpg</td>\n",
       "      <td>QGIC3AS07Y9MHLD4.jpg</td>\n",
       "      <td>CBYX2OVEANSKLZGD.jpg</td>\n",
       "      <td>8ISE04NXQT2GK69J.jpg</td>\n",
       "      <td>VW0NP865SMILUG3A.jpg</td>\n",
       "      <td>NGR24XT1QUSCJ05B.jpg</td>\n",
       "      <td>YIFCJ56L9H8MKZT2.jpg}</td>\n",
       "    </tr>\n",
       "    <tr>\n",
       "      <th>3</th>\n",
       "      <td>02NK1I9GDPV53E7W.jpg</td>\n",
       "      <td>{1IORCZASMYQWET6F.jpg</td>\n",
       "      <td>96ZHFYK02AW4ORJX.jpg</td>\n",
       "      <td>60NR5FPHZ3K2IOJW.jpg</td>\n",
       "      <td>1GIF0YEKZHPSTBDL.jpg</td>\n",
       "      <td>U0PF7TNRQEZ3VI1W.jpg</td>\n",
       "      <td>Z09IGR4X2MVKQC6L.jpg</td>\n",
       "      <td>DHN4ZCVA02UWKBLG.jpg</td>\n",
       "      <td>8OWI3AJVKZL7SQB1.jpg</td>\n",
       "      <td>1MK78TDFGX96YH4Q.jpg</td>\n",
       "      <td>L9YI6UZPO5NBQ12R.jpg}</td>\n",
       "    </tr>\n",
       "    <tr>\n",
       "      <th>4</th>\n",
       "      <td>02SJWKZYADBEP537.jpg</td>\n",
       "      <td>{U50E7Q319CHDO2KG.jpg</td>\n",
       "      <td>D3BQ65R2M7ACNFZP.jpg</td>\n",
       "      <td>PB8QAT5C07JZ63RW.jpg</td>\n",
       "      <td>HLQXVI9GPD2KC3AE.jpg</td>\n",
       "      <td>I0O537Z6RW24QNGB.jpg</td>\n",
       "      <td>5CYNFROBI0M297QX.jpg</td>\n",
       "      <td>45PUVATNWFSGBZQR.jpg</td>\n",
       "      <td>7152YNW49TVLSZGO.jpg</td>\n",
       "      <td>YO63IHBUNV9G7JK5.jpg</td>\n",
       "      <td>JCYFB84NH2SAI0XK.jpg}</td>\n",
       "    </tr>\n",
       "  </tbody>\n",
       "</table>\n",
       "</div>"
      ],
      "text/plain": [
       "                     0                      1                     2   \\\n",
       "0  0167QIBDLWNZCG3A.jpg  {B2Q6TNU3AMXZWKI8.jpg  I69S3EJ5MXZWQN7T.jpg   \n",
       "1  026FVTYGZO9QS7WP.jpg  {IDY5T0V23MJ1L4EU.jpg  U2DXSWV6F4I1RBON.jpg   \n",
       "2  02JQF4KT5I3WUAV1.jpg  {J0K7TS3M6NEYP1VL.jpg  XBCM09JY46F2183L.jpg   \n",
       "3  02NK1I9GDPV53E7W.jpg  {1IORCZASMYQWET6F.jpg  96ZHFYK02AW4ORJX.jpg   \n",
       "4  02SJWKZYADBEP537.jpg  {U50E7Q319CHDO2KG.jpg  D3BQ65R2M7ACNFZP.jpg   \n",
       "\n",
       "                     3                     4                     5   \\\n",
       "0  8G9PHDZ0O2BUYI7F.jpg  0Y8Z9FIKGO5U3T4B.jpg  ZHBI19SKYFMVJW6N.jpg   \n",
       "1  VYNZEQGLKOJPTU98.jpg  ZBU89GYN5QH3SXA1.jpg  VT9Y0X2IUC8BAGZ5.jpg   \n",
       "2  B8N2XJIKPLDFQOW4.jpg  4A9THO7W8NRKQLBU.jpg  QGIC3AS07Y9MHLD4.jpg   \n",
       "3  60NR5FPHZ3K2IOJW.jpg  1GIF0YEKZHPSTBDL.jpg  U0PF7TNRQEZ3VI1W.jpg   \n",
       "4  PB8QAT5C07JZ63RW.jpg  HLQXVI9GPD2KC3AE.jpg  I0O537Z6RW24QNGB.jpg   \n",
       "\n",
       "                     6                     7                     8   \\\n",
       "0  YOKBGC0S8HATZJQ6.jpg  T7NCBD0MWQPKIZ5U.jpg  SHMKOEN7TV4G0F5Q.jpg   \n",
       "1  U7MNFPJ08O1KICDS.jpg  VX7NKEFPQYJ3AW1D.jpg  SPNABG8HX5934WIK.jpg   \n",
       "2  CBYX2OVEANSKLZGD.jpg  8ISE04NXQT2GK69J.jpg  VW0NP865SMILUG3A.jpg   \n",
       "3  Z09IGR4X2MVKQC6L.jpg  DHN4ZCVA02UWKBLG.jpg  8OWI3AJVKZL7SQB1.jpg   \n",
       "4  5CYNFROBI0M297QX.jpg  45PUVATNWFSGBZQR.jpg  7152YNW49TVLSZGO.jpg   \n",
       "\n",
       "                     9                      10  \n",
       "0  PQEYBVK9RH41A837.jpg  GF63ZY0OUKIB4VLX.jpg}  \n",
       "1  N2V5SH0QMUEZG13D.jpg  LE25NC931U76XV8Q.jpg}  \n",
       "2  NGR24XT1QUSCJ05B.jpg  YIFCJ56L9H8MKZT2.jpg}  \n",
       "3  1MK78TDFGX96YH4Q.jpg  L9YI6UZPO5NBQ12R.jpg}  \n",
       "4  YO63IHBUNV9G7JK5.jpg  JCYFB84NH2SAI0XK.jpg}  "
      ]
     },
     "execution_count": 183,
     "metadata": {},
     "output_type": "execute_result"
    }
   ],
   "source": [
    "test_df = pd.read_csv(\"logs/genet_normal_384_hard_arcface80_15/submission_dba_aqe_None.csv\", header=None)\n",
    "# len(test_df)\n",
    "print(len(test_df[0].unique()))\n",
    "\n",
    "test_df.head()"
   ]
  },
  {
   "cell_type": "code",
   "execution_count": null,
   "metadata": {},
   "outputs": [],
   "source": []
  },
  {
   "cell_type": "code",
   "execution_count": 4,
   "metadata": {
    "ExecuteTime": {
     "end_time": "2020-09-24T08:05:52.403594Z",
     "start_time": "2020-09-24T08:05:52.377598Z"
    }
   },
   "outputs": [],
   "source": [
    "from loguru import logger\n",
    "import albumentations.pytorch as albu_pt\n",
    "class Dataset(torch.utils.data.Dataset):\n",
    "    _aspect_ratios = np.array([2, 16 / 9, 3 / 2, 4 / 3, 5 / 4, 1, 4 / 5, 3 / 4, 2 / 3, 9 / 16, 1 / 2])\n",
    "\n",
    "    def __init__(self, root=\"data/interim\", transform=None, train=None, size=512):\n",
    "        df = pd.read_csv(os.path.join(root, \"train_val.csv\"))\n",
    "        \n",
    "        if train is not None:\n",
    "            df = df[df[\"is_train\"].astype(np.bool) == train]\n",
    "    \n",
    "        self.filenames = [\n",
    "            os.path.join(root, f\"train_data_{size}\", path) for path in df[\"file_path\"].values.tolist()]\n",
    "\n",
    "        # Сheck that all images exist\n",
    "        assert map(lambda x: pathlib.Path(x).exists(), self.filenames), \"Found missing images!\"\n",
    "\n",
    "        self.targets = df[\"label\"].values.tolist()\n",
    "        self.ar = df[\"aspect_ratio\"].values\n",
    "\n",
    "        # For each aspect ration in `ar` find closest value from the\n",
    "        # `_aspect_ratios` and return it's index (group)\n",
    "        self.group_ids = np.argmin(\n",
    "            np.abs(self._aspect_ratios.reshape(1, -1) - self.ar.reshape(-1, 1)),\n",
    "            axis=1\n",
    "        )\n",
    "\n",
    "        self.sizes = []\n",
    "        for group in self.group_ids:\n",
    "            ar = self._aspect_ratios[group]\n",
    "            # Resize image to have `size` shape on smaller side and be devidable by 16 on another\n",
    "            if ar <= 1:\n",
    "                H = size\n",
    "                W = int(size / ar) // 8 * 8\n",
    "            else:\n",
    "                W = size\n",
    "                H = int(size * ar) // 8 * 8\n",
    "            self.sizes.append((H, W))\n",
    "\n",
    "        logger.info(f\"Using sizes {set(self.sizes)} for {'train'if train else 'validation'}\")\n",
    "        self.transform = albu.Compose([albu_pt.ToTensorV2()]) if transform is None else transform\n",
    "\n",
    "    def __getitem__(self, index):\n",
    "        \"\"\"\n",
    "        Args:\n",
    "            index (int): Index\n",
    "        Returns:\n",
    "            tuple: (image, target) where target is index of the target class.\n",
    "        \"\"\"\n",
    "        # logger.info(f\"Index {index}\")\n",
    "        image = cv2.imread(self.filenames[index], cv2.IMREAD_COLOR)\n",
    "        # logger.info(f\"{index} Size before reshape {image.shape}\")\n",
    "        image = cv2.resize(image, self.sizes[index])\n",
    "        # logger.info(f\"{index} Size after reshape {image.shape}\")\n",
    "        image = cv2.cvtColor(image, cv2.COLOR_BGR2RGB)\n",
    "        image = self.transform(image=image)[\"image\"]\n",
    "\n",
    "        target = self.targets[index]\n",
    "\n",
    "        return image, target\n",
    "\n",
    "    def __len__(self):\n",
    "        return len(self.filenames)"
   ]
  },
  {
   "cell_type": "code",
   "execution_count": 5,
   "metadata": {
    "ExecuteTime": {
     "end_time": "2020-09-24T08:05:54.207713Z",
     "start_time": "2020-09-24T08:05:53.784579Z"
    }
   },
   "outputs": [
    {
     "name": "stderr",
     "output_type": "stream",
     "text": [
      "2020-09-24 11:05:54.154 | INFO     | __main__:__init__:40 - Using sizes {(768, 512), (512, 512), (640, 512), (512, 1024), (512, 768), (1024, 512), (512, 640), (680, 512), (904, 512), (512, 904), (512, 680)} for validation\n",
      "2020-09-24 11:05:54.165 | INFO     | __main__:<module>:25 - Len dataset 68601\n"
     ]
    }
   ],
   "source": [
    "from src.augmentations import get_aug\n",
    "from src.utils import ToCudaLoader\n",
    "from src.datasets import GroupedBatchSampler\n",
    "\n",
    "aug = get_aug('val', size=512)\n",
    "BATCH_SIZE = 32\n",
    "\n",
    "dataset = Dataset(root=\"data/interim\", transform=aug, train=None, size=512)\n",
    "\n",
    "gb_sampler = GroupedBatchSampler(\n",
    "    sampler=torch.utils.data.sampler.SequentialSampler(dataset),\n",
    "    group_ids=dataset.group_ids,\n",
    "    batch_size=BATCH_SIZE,\n",
    "    drop_uneven=False,\n",
    ")\n",
    "\n",
    "loader = torch.utils.data.DataLoader(\n",
    "    dataset,\n",
    "    num_workers=8,\n",
    "    pin_memory=False,\n",
    "    batch_sampler=gb_sampler,\n",
    ")\n",
    "\n",
    "loader = ToCudaLoader(loader)\n",
    "logger.info(f\"Len dataset {len(dataset)}\")\n",
    "\n",
    "# GB sampler changes the order of images depending on batch size\n",
    "indexes = [idx for batch in list(gb_sampler) for idx in batch]\n"
   ]
  },
  {
   "cell_type": "code",
   "execution_count": 6,
   "metadata": {
    "ExecuteTime": {
     "end_time": "2020-09-24T08:06:02.521777Z",
     "start_time": "2020-09-24T08:05:56.904280Z"
    }
   },
   "outputs": [
    {
     "data": {
      "text/plain": [
       "<All keys matched successfully>"
      ]
     },
     "execution_count": 6,
     "metadata": {},
     "output_type": "execute_result"
    }
   ],
   "source": [
    "from predict import predict_from_loader\n",
    "from src.models import Model\n",
    "import pathlib\n",
    "\n",
    "# Get model\n",
    "model = Model(\n",
    "    arch=\"genet_normal\",\n",
    "    model_params={},\n",
    "    embedding_size=512,\n",
    "    pooling=\"gem\").cuda()\n",
    "# logger.info(model)\n",
    "\n",
    "# Init\n",
    "checkpoint = torch.load(pathlib.Path(\"logs/genet_normal_384_hard_arcface80_15\") / f\"model.chpn\")\n",
    "model.load_state_dict(checkpoint[\"state_dict\"], strict=False)"
   ]
  },
  {
   "cell_type": "code",
   "execution_count": 7,
   "metadata": {
    "ExecuteTime": {
     "end_time": "2020-09-24T08:12:21.373363Z",
     "start_time": "2020-09-24T08:06:02.523701Z"
    }
   },
   "outputs": [
    {
     "name": "stderr",
     "output_type": "stream",
     "text": [
      "100%|██████████| 2150/2150 [06:18<00:00,  5.68it/s]\n"
     ]
    }
   ],
   "source": [
    "embeddings = predict_from_loader(model, loader)\n",
    "# embeddings = torch.tensor(embeddings)"
   ]
  },
  {
   "cell_type": "code",
   "execution_count": 44,
   "metadata": {
    "ExecuteTime": {
     "end_time": "2020-09-24T11:50:58.722592Z",
     "start_time": "2020-09-24T11:50:52.450768Z"
    }
   },
   "outputs": [
    {
     "name": "stdout",
     "output_type": "stream",
     "text": [
      "Length: 68601, num classes: 2837\n"
     ]
    },
    {
     "data": {
      "text/html": [
       "<div>\n",
       "<style scoped>\n",
       "    .dataframe tbody tr th:only-of-type {\n",
       "        vertical-align: middle;\n",
       "    }\n",
       "\n",
       "    .dataframe tbody tr th {\n",
       "        vertical-align: top;\n",
       "    }\n",
       "\n",
       "    .dataframe thead th {\n",
       "        text-align: right;\n",
       "    }\n",
       "</style>\n",
       "<table border=\"1\" class=\"dataframe\">\n",
       "  <thead>\n",
       "    <tr style=\"text-align: right;\">\n",
       "      <th></th>\n",
       "      <th>file_path</th>\n",
       "      <th>label</th>\n",
       "      <th>full_path</th>\n",
       "      <th>hash_md5</th>\n",
       "      <th>original_size</th>\n",
       "      <th>aspect_ratio</th>\n",
       "      <th>is_train</th>\n",
       "      <th>is_query</th>\n",
       "      <th>embeddings</th>\n",
       "    </tr>\n",
       "  </thead>\n",
       "  <tbody>\n",
       "    <tr>\n",
       "      <th>0</th>\n",
       "      <td>DIGIX_000000/19BRS2LZXV4M865W.jpg</td>\n",
       "      <td>0</td>\n",
       "      <td>data/raw/train_data/DIGIX_000000/19BRS2LZXV4M8...</td>\n",
       "      <td>b2a51756bcc2747e9c2b1705e2698c48</td>\n",
       "      <td>(1080, 1440)</td>\n",
       "      <td>0.75</td>\n",
       "      <td>False</td>\n",
       "      <td>True</td>\n",
       "      <td>[0.05527299642562866, -0.02226325124502182, 0....</td>\n",
       "    </tr>\n",
       "    <tr>\n",
       "      <th>3</th>\n",
       "      <td>DIGIX_000000/7WMZS8Q2V06E54FL.jpg</td>\n",
       "      <td>0</td>\n",
       "      <td>data/raw/train_data/DIGIX_000000/7WMZS8Q2V06E5...</td>\n",
       "      <td>06c03ce2c568bc0d27db07c8e5535f8d</td>\n",
       "      <td>(1368, 1824)</td>\n",
       "      <td>0.75</td>\n",
       "      <td>False</td>\n",
       "      <td>False</td>\n",
       "      <td>[0.014345978386700153, -0.002005089307203889, ...</td>\n",
       "    </tr>\n",
       "    <tr>\n",
       "      <th>5</th>\n",
       "      <td>DIGIX_000000/9WS85AHRBXKGOQED.jpg</td>\n",
       "      <td>0</td>\n",
       "      <td>data/raw/train_data/DIGIX_000000/9WS85AHRBXKGO...</td>\n",
       "      <td>b8df6b3a7ede7d9e71ac8433236e4a56</td>\n",
       "      <td>(1080, 1440)</td>\n",
       "      <td>0.75</td>\n",
       "      <td>False</td>\n",
       "      <td>False</td>\n",
       "      <td>[0.037044163793325424, -0.04289752244949341, 0...</td>\n",
       "    </tr>\n",
       "  </tbody>\n",
       "</table>\n",
       "</div>"
      ],
      "text/plain": [
       "                           file_path  label  \\\n",
       "0  DIGIX_000000/19BRS2LZXV4M865W.jpg      0   \n",
       "3  DIGIX_000000/7WMZS8Q2V06E54FL.jpg      0   \n",
       "5  DIGIX_000000/9WS85AHRBXKGOQED.jpg      0   \n",
       "\n",
       "                                           full_path  \\\n",
       "0  data/raw/train_data/DIGIX_000000/19BRS2LZXV4M8...   \n",
       "3  data/raw/train_data/DIGIX_000000/7WMZS8Q2V06E5...   \n",
       "5  data/raw/train_data/DIGIX_000000/9WS85AHRBXKGO...   \n",
       "\n",
       "                           hash_md5 original_size  aspect_ratio  is_train  \\\n",
       "0  b2a51756bcc2747e9c2b1705e2698c48  (1080, 1440)          0.75     False   \n",
       "3  06c03ce2c568bc0d27db07c8e5535f8d  (1368, 1824)          0.75     False   \n",
       "5  b8df6b3a7ede7d9e71ac8433236e4a56  (1080, 1440)          0.75     False   \n",
       "\n",
       "   is_query                                         embeddings  \n",
       "0      True  [0.05527299642562866, -0.02226325124502182, 0....  \n",
       "3     False  [0.014345978386700153, -0.002005089307203889, ...  \n",
       "5     False  [0.037044163793325424, -0.04289752244949341, 0...  "
      ]
     },
     "execution_count": 44,
     "metadata": {},
     "output_type": "execute_result"
    }
   ],
   "source": [
    "df = pd.read_csv(\"data/interim/train_val.csv\")\n",
    "print(f\"Length: {len(df)}, num classes: {len(df.label.unique())}\")\n",
    "\n",
    "# With BS=1 df should be same \n",
    "df = df.iloc[indexes]\n",
    "\n",
    "# Hack to save torch.Tensor into pd.DataFrame\n",
    "df[\"embeddings\"] = list(map(lambda r: np.array(r).tolist(), embeddings))\n",
    "df.head(3)"
   ]
  },
  {
   "cell_type": "markdown",
   "metadata": {},
   "source": [
    "# Change cdist to faiss library"
   ]
  },
  {
   "cell_type": "code",
   "execution_count": 43,
   "metadata": {
    "ExecuteTime": {
     "end_time": "2020-09-24T11:32:13.816190Z",
     "start_time": "2020-09-24T11:32:13.801540Z"
    }
   },
   "outputs": [
    {
     "data": {
      "text/plain": [
       "torch.Size([16, 3, 90, 90])"
      ]
     },
     "execution_count": 43,
     "metadata": {},
     "output_type": "execute_result"
    }
   ],
   "source": [
    "import math\n",
    "batch = torch.randn(16, 3, 64, 64)\n",
    "\n",
    "# torch.nn.functional.interpolate(batch, scale_factor=1 / math.sqrt(2))\n",
    "torch.nn.functional.interpolate(batch, scale_factor=math.sqrt(2))\n"
   ]
  },
  {
   "cell_type": "code",
   "execution_count": 55,
   "metadata": {
    "ExecuteTime": {
     "end_time": "2020-09-24T11:59:14.146017Z",
     "start_time": "2020-09-24T11:58:57.944052Z"
    }
   },
   "outputs": [
    {
     "name": "stderr",
     "output_type": "stream",
     "text": [
      "2020-09-24 14:59:14.142 | INFO     | __main__:<module>:13 - Validation query size - 1702, gallery size - 21969\n"
     ]
    }
   ],
   "source": [
    "# Test kNN and compare results with cdist search\n",
    "config_path = pathlib.Path(\"logs/genet_normal_384_hard_arcface80_15\")\n",
    "\n",
    "# Read DF\n",
    "df_val = pd.read_csv(config_path / \"train_val.csv\")\n",
    "val_embeddings = np.array(list(map(eval, df_val[\"embeddings\"].values)))\n",
    "query_mask = df_val[\"is_query\"].values.astype(np.bool)\n",
    "val_labels = df_val[\"label\"].values\n",
    "\n",
    "# Shape (n_embeddings, embedding_dim)\n",
    "query_embeddings, gallery_embeddings = val_embeddings[query_mask], val_embeddings[~query_mask]\n",
    "query_labels, gallery_labels = val_labels[query_mask], val_labels[~query_mask]\n",
    "logger.info(f\"Validation query size - {len(query_embeddings)}, gallery size - {len(gallery_embeddings)}\")\n",
    "del val_embeddings"
   ]
  },
  {
   "cell_type": "code",
   "execution_count": 66,
   "metadata": {
    "ExecuteTime": {
     "end_time": "2020-09-24T12:34:24.264904Z",
     "start_time": "2020-09-24T12:34:24.245832Z"
    }
   },
   "outputs": [],
   "source": [
    "conformity_matrix = torch.tensor(query_labels.reshape(-1, 1) == gallery_labels)"
   ]
  },
  {
   "cell_type": "code",
   "execution_count": 67,
   "metadata": {
    "ExecuteTime": {
     "end_time": "2020-09-24T12:34:35.070196Z",
     "start_time": "2020-09-24T12:34:35.066631Z"
    }
   },
   "outputs": [
    {
     "data": {
      "text/plain": [
       "(torch.Size([1702, 21969]), (1702, 1000))"
      ]
     },
     "execution_count": 67,
     "metadata": {},
     "output_type": "execute_result"
    }
   ],
   "source": [
    "conformity_matrix.shape, ids.shape"
   ]
  },
  {
   "cell_type": "code",
   "execution_count": 73,
   "metadata": {
    "ExecuteTime": {
     "end_time": "2020-09-24T13:14:06.130070Z",
     "start_time": "2020-09-24T13:14:06.117652Z"
    }
   },
   "outputs": [],
   "source": [
    "\n",
    "class kNN(object):\n",
    "    \"\"\"k Nearest Neighbors class.\n",
    "    Inits database and performes search in it.\n",
    "    Uses Numpy arrays, not PyTorch tensors\n",
    "\n",
    "    Args:\n",
    "        embeddings: Matrix of gallery embeddings. Shape (n_emb x emb_dim)\n",
    "        distance: Distance metric, one of {'cosine', 'euclidean'}\n",
    "    \"\"\"\n",
    "\n",
    "    def __init__(self, embeddings: torch.Tensor, distance: str = 'cosine', use_gpu=False):\n",
    "        embeddings = np.array(embeddings)\n",
    "        if embeddings.dtype != np.float32:\n",
    "            embeddings = embeddings.astype(np.float32)\n",
    "        self.N, self.embedding_size = embeddings.shape\n",
    "\n",
    "        # Store embeddings, so that they can be easyly found by index\n",
    "        self.embeddings = embeddings if embeddings.flags['C_CONTIGUOUS'] \\\n",
    "                               else np.ascontiguousarray(embeddings)\n",
    "\n",
    "        self.index = {\n",
    "            'cosine': faiss.IndexFlatIP,\n",
    "            'euclidean': faiss.IndexFlatL2\n",
    "        }[distance](self.embedding_size)\n",
    "        if use_gpu:\n",
    "            self.index = faiss.index_cpu_to_all_gpus(self.index)\n",
    "            \n",
    "        # Add data to index in batches\n",
    "        for i in range(0, self.N, 10000):\n",
    "            self.index.add(self.embeddings[i: i + 10000])\n",
    "            \n",
    "\n",
    "    def search(self, queries, topk):\n",
    "        \"\"\"Search in database\n",
    "        Args:\n",
    "            queries: Matrix of query embeddings. Shape (n_que x emb_dim)\n",
    "            topk: get top-k results\n",
    "        Returns:\n",
    "            distances: similarities of k-NN. Shape (n_que x topk)\n",
    "            ids: indexes of k-NN from gallery. Shape (n_que x topk)\n",
    "        \"\"\"\n",
    "        queries = np.asarray(queries)\n",
    "        queries = queries.astype(np.float32)\n",
    "        queries = np.ascontiguousarray(queries)\n",
    "        distances, ids = self.index.search(queries, topk)\n",
    "        return torch.tensor(distances), torch.tensor(ids)\n"
   ]
  },
  {
   "cell_type": "code",
   "execution_count": 163,
   "metadata": {
    "ExecuteTime": {
     "end_time": "2020-09-24T13:44:26.553472Z",
     "start_time": "2020-09-24T13:44:26.548360Z"
    }
   },
   "outputs": [],
   "source": [
    "\n",
    "def query_expansion(query_embeddings, gallery_embeddings, topk=10, alpha=3):\n",
    "    \"\"\"\n",
    "    Implementation of Data Base Augmentation / Alpha Query Expansion\n",
    "    Args:\n",
    "        query_embeddings (Tensor): Shape (N, embedding_dim)\n",
    "        gallery_embeddings (Tensor): Shape (M, embedding_dim)\n",
    "        topk (int): How many neighbours to use\n",
    "        alpha (int): Power for neighbours reweighting\n",
    "        include_self (bool): Flag to include original embed in new one\n",
    "    \"\"\"\n",
    "\n",
    "    # Init kNN and find neighbours\n",
    "    knn = kNN(embeddings=gallery_embeddings, distance='cosine')\n",
    "\n",
    "    # Get distance matrix of shape (query_length x 1000) and corresponding indexes in gallery\n",
    "    distances, perm_matrix = knn.search(query_embeddings, topk=topk)\n",
    "\n",
    "    # Get weight\n",
    "    if alpha is None:\n",
    "        weight = torch.div(topk - torch.arange(topk) - 1, float(topk))[None, :, None]  # 1 x TOPK x 1\n",
    "    else:\n",
    "        weight = (distances ** alpha)[..., None]  # N x TOPK -> N x TOPK x 1\n",
    "#         print(weight)\n",
    "\n",
    "    new_embeddings = gallery_embeddings[perm_matrix] * weight  # N x TOPK x EMBED_SIZE * N x TOPK x 1\n",
    "    new_embeddings = new_embeddings.sum(dim=1) + query_embeddings\n",
    "\n",
    "    # new_embedding = (new_embedding.mean(dim=1) + query_embeddings) / 2\n",
    "    new_embeddings = torch.nn.functional.normalize(new_embeddings, p=2, dim=1)\n",
    "    print(new_embeddings.shape)\n",
    "    # new_embedding = torch.nn.functional.normalize(new_embedding, p=2, dim=1)\n",
    "    return new_embeddings"
   ]
  },
  {
   "cell_type": "code",
   "execution_count": 175,
   "metadata": {
    "ExecuteTime": {
     "end_time": "2020-09-24T13:45:31.913615Z",
     "start_time": "2020-09-24T13:45:31.909220Z"
    }
   },
   "outputs": [],
   "source": [
    "query_embeddings = torch.rand(100, 2)\n",
    "gallery_embeddings = torch.rand(1000, 2)\n",
    "\n",
    "query_embeddings = torch.nn.functional.normalize(query_embeddings, p=2, dim=1)\n",
    "gallery_embeddings = torch.nn.functional.normalize(gallery_embeddings, p=2, dim=1)"
   ]
  },
  {
   "cell_type": "code",
   "execution_count": 176,
   "metadata": {
    "ExecuteTime": {
     "end_time": "2020-09-24T13:45:32.445379Z",
     "start_time": "2020-09-24T13:45:32.440563Z"
    }
   },
   "outputs": [
    {
     "name": "stdout",
     "output_type": "stream",
     "text": [
      "torch.Size([100, 2])\n"
     ]
    }
   ],
   "source": [
    "query_embeddings_aqe = query_expansion(query_embeddings, gallery_embeddings, topk=30, alpha=None)"
   ]
  },
  {
   "cell_type": "code",
   "execution_count": 181,
   "metadata": {
    "ExecuteTime": {
     "end_time": "2020-09-24T13:45:46.522590Z",
     "start_time": "2020-09-24T13:45:46.383496Z"
    }
   },
   "outputs": [
    {
     "data": {
      "text/plain": [
       "<matplotlib.collections.PathCollection at 0x7f00385cd128>"
      ]
     },
     "execution_count": 181,
     "metadata": {},
     "output_type": "execute_result"
    },
    {
     "data": {
      "image/png": "[encoded data removed]",
      "text/plain": [
       "<Figure size 432x288 with 1 Axes>"
      ]
     },
     "metadata": {
      "needs_background": "light"
     },
     "output_type": "display_data"
    }
   ],
   "source": [
    "# plt.scatter(query_embeddings[:, 0], query_embeddings[:, 1])\n",
    "plt.scatter(query_embeddings_aqe[:, 0], query_embeddings_aqe[:, 1])"
   ]
  },
  {
   "cell_type": "code",
   "execution_count": 124,
   "metadata": {
    "ExecuteTime": {
     "end_time": "2020-09-24T13:31:35.682353Z",
     "start_time": "2020-09-24T13:31:35.674304Z"
    }
   },
   "outputs": [
    {
     "data": {
      "text/plain": [
       "(tensor([[0.7432, 0.6742, 0.6738, 0.6679, 0.6641],\n",
       "         [0.6637, 0.6288, 0.5736, 0.5688, 0.5482],\n",
       "         [0.6790, 0.6172, 0.5959, 0.5894, 0.5379],\n",
       "         [0.6209, 0.5911, 0.5868, 0.5548, 0.5431],\n",
       "         [0.7893, 0.6328, 0.6081, 0.5798, 0.5584],\n",
       "         [0.6405, 0.6310, 0.5883, 0.5671, 0.5205],\n",
       "         [0.6711, 0.5892, 0.5820, 0.5594, 0.5541],\n",
       "         [0.7468, 0.7366, 0.6559, 0.6219, 0.5898],\n",
       "         [0.6304, 0.5630, 0.5508, 0.5505, 0.5456],\n",
       "         [0.6336, 0.6057, 0.5596, 0.5301, 0.4905]]),\n",
       " tensor([[-0.5136, -0.6515, -0.6524, -0.6642, -0.6718],\n",
       "         [-0.6725, -0.7425, -0.8528, -0.8624, -0.9036],\n",
       "         [-0.6420, -0.7657, -0.8082, -0.8213, -0.9242],\n",
       "         [-0.7583, -0.8177, -0.8265, -0.8904, -0.9138],\n",
       "         [-0.4215, -0.7344, -0.7838, -0.8403, -0.8832],\n",
       "         [-0.7191, -0.7381, -0.8234, -0.8657, -0.9591],\n",
       "         [-0.6577, -0.8215, -0.8360, -0.8811, -0.8918],\n",
       "         [-0.5064, -0.5269, -0.6883, -0.7561, -0.8204],\n",
       "         [-0.7392, -0.8741, -0.8984, -0.8990, -0.9088],\n",
       "         [-0.7328, -0.7886, -0.8807, -0.9399, -1.0190]]),\n",
       " tensor([[13, 49, 50, 12, 81],\n",
       "         [63, 65, 94, 15, 86],\n",
       "         [98,  0, 54, 56, 60],\n",
       "         [13, 18, 94, 50, 81],\n",
       "         [ 4, 90, 12, 72, 31],\n",
       "         [74, 37, 27, 93,  1],\n",
       "         [37, 75, 82, 58, 45],\n",
       "         [59, 43, 28, 86, 65],\n",
       "         [37, 82, 75, 24, 42],\n",
       "         [42, 95, 31, 36,  4]]))"
      ]
     },
     "execution_count": 124,
     "metadata": {},
     "output_type": "execute_result"
    }
   ],
   "source": [
    "# Matrix of pairwise cosin distances\n",
    "distances = torch.cdist(query_embeddings, gallery_embeddings)\n",
    "distances.max()\n",
    "# alpha = 3\n",
    "# Nearest neighbours\n",
    "topk_vals, topk_ind = distances.neg().topk(5, dim=1)\n",
    "\n",
    "(2 - topk_vals.neg()) * 0.5 , topk_vals, topk_ind\n",
    "\n",
    "# gallery_embeddings = query_expansion(gallery_embeddings, gallery_embeddings, topk=10, alpha=5)\n",
    "# cosine_dist = (2 - topk_vals.neg()) * 0.5  # cos = ((2 - l2_distances) / 2)\n",
    "# weight = (cosine_dist ** alpha)[..., None]  # N x TOPK -> N x TOPK x 1\n",
    "# # weight\n",
    "# torch.sort(distances)\n",
    "# if hparams.aqe:\n",
    "#     query_embeddings = query_expansion(query_embeddings, gallery_embeddings, topk=3, alpha=5)"
   ]
  },
  {
   "cell_type": "code",
   "execution_count": 68,
   "metadata": {
    "ExecuteTime": {
     "end_time": "2020-09-24T12:34:37.929674Z",
     "start_time": "2020-09-24T12:34:37.565831Z"
    }
   },
   "outputs": [
    {
     "name": "stderr",
     "output_type": "stream",
     "text": [
      "100%|██████████| 3/3 [00:00<00:00, 55.40it/s]\n"
     ]
    }
   ],
   "source": [
    "# Compare result of kNN\n",
    "knn = kNN(embeddings=gallery_embeddings, distance='euclidean')\n",
    "\n",
    "# Get distance matrix of shape (query_length x 1000)\n",
    "distances, ids = knn.search(query_embeddings, topk=1000)\n",
    "# distances = torch.tensor(distances)\n",
    "\n",
    "# Take 1000 matches\n",
    "# conformity_matrix = torch.gather(conformity_matrix, 1, torch.tensor(ids))"
   ]
  },
  {
   "cell_type": "code",
   "execution_count": 62,
   "metadata": {
    "ExecuteTime": {
     "end_time": "2020-09-24T12:00:18.831376Z",
     "start_time": "2020-09-24T12:00:18.825601Z"
    }
   },
   "outputs": [],
   "source": [
    "def map_at_k_2(perm_matrix: torch.Tensor, conformity_matrix: torch.Tensor, topk: int = 10) -> float:\n",
    "    \"\"\"Compute mean Average Precision (mAP@k) from distance matrix and conformity matrix.\n",
    "    If topk parameter is None, returns mAP@R, see [1] for details.\n",
    "\n",
    "    Args:\n",
    "        perm_matrix: Shape (len_query x 1000)\n",
    "        conformity_matrix: binary matrix with 1 on same label pos\n",
    "            and 0 otherwise. Shape (len_query x len_gallery)\n",
    "        topk: number of top examples for AP counting.\n",
    "\n",
    "    Returns:\n",
    "        mAP@k score\n",
    "\n",
    "    Reference:\n",
    "        [1] A Metric Learning Reality Check\n",
    "            https://arxiv.org/pdf/2003.08505.pdf\n",
    "    \"\"\"\n",
    "    conformity_matrix = conformity_matrix.type(torch.double)\n",
    "\n",
    "    if topk is None:  # Compute mAP@R\n",
    "        # Total total number of references that are the same class as the query.\n",
    "        R = conformity_matrix.sum(dim=1)\n",
    "        R_max = int(R.max())\n",
    "    else:  # Compute mAP@k\n",
    "        R = torch.ones(perm_matrix.size(0)) * topk\n",
    "        R_max = topk\n",
    "\n",
    "    R_mask = torch.cumsum(torch.ones((perm_matrix.size(0), R_max)), dim=1) <= R.reshape(-1, 1)\n",
    "\n",
    "    # Sort matrix\n",
    "    conformity_matrix = torch.gather(conformity_matrix, 1, perm_matrix)[:, :R_max] * R_mask\n",
    "    precision = torch.cumsum(conformity_matrix, dim=-1) * conformity_matrix \\\n",
    "        / torch.arange(start=1, end=R_max + 1)\n",
    "    average_precision = precision.sum(dim=-1) / conformity_matrix.sum(dim=-1)\n",
    "\n",
    "    # If no match found at first k elements, AP is 0\n",
    "    average_precision[average_precision.isnan()] = 0\n",
    "    return average_precision.mean().item()"
   ]
  },
  {
   "cell_type": "code",
   "execution_count": 69,
   "metadata": {
    "ExecuteTime": {
     "end_time": "2020-09-24T12:34:41.967588Z",
     "start_time": "2020-09-24T12:34:41.679116Z"
    }
   },
   "outputs": [
    {
     "name": "stderr",
     "output_type": "stream",
     "text": [
      "2020-09-24 15:34:41.964 | INFO     | __main__:<module>:5 - Val: mAP@10 0.95582, mAP@R 0.94842\n"
     ]
    }
   ],
   "source": [
    "\n",
    "map10 = map_at_k_2(torch.tensor(ids), conformity_matrix, topk=10)\n",
    "mapR = map_at_k_2(torch.tensor(ids), conformity_matrix, topk=None)\n",
    "\n",
    "logger.info(\n",
    "    f\"Val: mAP@10 {map10:0.5f}, mAP@R {mapR:0.5f}\")\n"
   ]
  },
  {
   "cell_type": "code",
   "execution_count": 50,
   "metadata": {
    "ExecuteTime": {
     "end_time": "2020-09-24T11:55:44.517496Z",
     "start_time": "2020-09-24T11:55:44.513668Z"
    }
   },
   "outputs": [
    {
     "data": {
      "text/plain": [
       "(torch.Size([1702, 21969]), (1702, 1000), (1702, 1000))"
      ]
     },
     "execution_count": 50,
     "metadata": {},
     "output_type": "execute_result"
    }
   ],
   "source": [
    "conformity_matrix.shape, distances.shape, ids.shape"
   ]
  },
  {
   "cell_type": "code",
   "execution_count": null,
   "metadata": {},
   "outputs": [],
   "source": [
    "# Compare result of kNN and cdist\n",
    "knn = kNN(embeddings=gallery_embeddings, distance='cosine')\n",
    "distances, ids = knn.search(query_embeddings, topk=15522)\n",
    "distances = torch.tensor(distances)\n",
    "\n",
    "map10 = map_at_k_2(torch.tensor(ids), conformity_matrix, topk=10)\n",
    "mapR = map_at_k_2(torch.tensor(ids), conformity_matrix, topk=None)\n",
    "\n",
    "logger.info(\n",
    "    f\"Val: mAP@10 {map10:0.5f}, mAP@R {mapR:0.5f}\")"
   ]
  },
  {
   "cell_type": "code",
   "execution_count": 19,
   "metadata": {
    "ExecuteTime": {
     "end_time": "2020-09-24T08:18:12.438761Z",
     "start_time": "2020-09-24T08:18:10.630500Z"
    }
   },
   "outputs": [],
   "source": [
    "# sampled_embeddings = []\n",
    "# sampled_labels = []\n",
    "# N = 5\n",
    "# for label in df[\"label\"].unique():\n",
    "#     label_df = df[df.label == label]\n",
    "#     label_embeddings = embeddings[label_df.index]\n",
    "#     sampled_embeddings.extend(label_embeddings[:N])\n",
    "#     sampled_labels.extend([label] * len(label_embeddings[:N]))\n",
    "    "
   ]
  },
  {
   "cell_type": "code",
   "execution_count": 43,
   "metadata": {
    "ExecuteTime": {
     "end_time": "2020-09-24T11:32:13.816190Z",
     "start_time": "2020-09-24T11:32:13.801540Z"
    }
   },
   "outputs": [
    {
     "data": {
      "text/plain": [
       "torch.Size([16, 3, 90, 90])"
      ]
     },
     "execution_count": 43,
     "metadata": {},
     "output_type": "execute_result"
    }
   ],
   "source": [
    "import math\n",
    "batch = torch.randn(16, 3, 64, 64)\n",
    "\n",
    "# torch.nn.functional.interpolate(batch, scale_factor=1 / math.sqrt(2))\n",
    "torch.nn.functional.interpolate(batch, scale_factor=math.sqrt(2))\n"
   ]
  },
  {
   "cell_type": "code",
   "execution_count": 20,
   "metadata": {
    "ExecuteTime": {
     "end_time": "2020-09-24T08:18:14.005705Z",
     "start_time": "2020-09-24T08:18:13.977917Z"
    }
   },
   "outputs": [
    {
     "data": {
      "text/plain": [
       "(14133, 512)"
      ]
     },
     "execution_count": 20,
     "metadata": {},
     "output_type": "execute_result"
    }
   ],
   "source": [
    "sampled_embeddings = np.array(sampled_embeddings)\n",
    "sampled_embeddings.shape"
   ]
  },
  {
   "cell_type": "code",
   "execution_count": 21,
   "metadata": {
    "ExecuteTime": {
     "end_time": "2020-09-24T08:18:33.082222Z",
     "start_time": "2020-09-24T08:18:29.344519Z"
    }
   },
   "outputs": [
    {
     "name": "stderr",
     "output_type": "stream",
     "text": [
      "100%|██████████| 2/2 [00:00<00:00, 40.67it/s]\n"
     ]
    }
   ],
   "source": [
    "# Compare result of kNN and cdist\n",
    "knn = kNN(embeddings=sampled_embeddings, distance='euclidean')\n",
    "\n",
    "# Get distance matrix of shape (n_emb x n_emb)\n",
    "distances, ids = knn.search(sampled_embeddings, topk=len(sampled_embeddings))\n",
    "# distances = torch.tensor(distances)\n"
   ]
  },
  {
   "cell_type": "code",
   "execution_count": 22,
   "metadata": {
    "ExecuteTime": {
     "end_time": "2020-09-24T08:18:35.679469Z",
     "start_time": "2020-09-24T08:18:35.462481Z"
    }
   },
   "outputs": [
    {
     "data": {
      "text/plain": [
       "((14133, 14133), 2.727338, 0.0)"
      ]
     },
     "execution_count": 22,
     "metadata": {},
     "output_type": "execute_result"
    }
   ],
   "source": [
    "distances.shape, distances.max(), distances.min()"
   ]
  },
  {
   "cell_type": "code",
   "execution_count": 33,
   "metadata": {
    "ExecuteTime": {
     "end_time": "2020-09-24T07:51:27.704028Z",
     "start_time": "2020-09-24T07:51:27.698847Z"
    }
   },
   "outputs": [],
   "source": [
    "# %load_ext wurlitzer"
   ]
  },
  {
   "cell_type": "code",
   "execution_count": 23,
   "metadata": {
    "ExecuteTime": {
     "end_time": "2020-09-24T08:18:43.322079Z",
     "start_time": "2020-09-24T08:18:43.172790Z"
    }
   },
   "outputs": [],
   "source": [
    "from sklearn.manifold import TSNE\n",
    "# from MulticoreTSNE import MulticoreTSNE as TSNE\n",
    "tsne = TSNE(n_components=2,perplexity=30.0, n_iter=1000, metric='precomputed', init='random', method='barnes_hut', angle=0.5,)"
   ]
  },
  {
   "cell_type": "code",
   "execution_count": 24,
   "metadata": {
    "ExecuteTime": {
     "end_time": "2020-09-24T08:22:15.867255Z",
     "start_time": "2020-09-24T08:19:04.337566Z"
    }
   },
   "outputs": [],
   "source": [
    "sampled_embeddings_tsne = tsne.fit_transform(distances)"
   ]
  },
  {
   "cell_type": "code",
   "execution_count": 26,
   "metadata": {
    "ExecuteTime": {
     "end_time": "2020-09-24T08:23:53.618932Z",
     "start_time": "2020-09-24T08:23:53.614715Z"
    }
   },
   "outputs": [
    {
     "data": {
      "text/plain": [
       "14133"
      ]
     },
     "execution_count": 26,
     "metadata": {},
     "output_type": "execute_result"
    }
   ],
   "source": [
    "len(sampled_labels)"
   ]
  },
  {
   "cell_type": "code",
   "execution_count": 25,
   "metadata": {
    "ExecuteTime": {
     "end_time": "2020-09-24T08:23:21.815766Z",
     "start_time": "2020-09-24T08:23:20.953043Z"
    }
   },
   "outputs": [
    {
     "data": {
      "text/plain": [
       "<matplotlib.collections.PathCollection at 0x7f01334cedd8>"
      ]
     },
     "execution_count": 25,
     "metadata": {},
     "output_type": "execute_result"
    },
    {
     "data": {
      "image/png": "[encoded data removed]",
      "text/plain": [
       "<Figure size 720x720 with 1 Axes>"
      ]
     },
     "metadata": {
      "needs_background": "light"
     },
     "output_type": "display_data"
    }
   ],
   "source": [
    "plt.figure(figsize=(10, 10))\n",
    "plt.scatter(sampled_embeddings_tsne[:, 0], sampled_embeddings_tsne[:, 1], c=sampled_labels)"
   ]
  },
  {
   "cell_type": "code",
   "execution_count": null,
   "metadata": {},
   "outputs": [],
   "source": []
  },
  {
   "cell_type": "code",
   "execution_count": null,
   "metadata": {
    "ExecuteTime": {
     "end_time": "2020-09-24T07:50:47.532437Z",
     "start_time": "2020-09-24T07:44:35.151Z"
    }
   },
   "outputs": [],
   "source": [
    "# embeddings = np.array(embeddings)\n",
    "# labels = df[\"label\"].values"
   ]
  },
  {
   "cell_type": "markdown",
   "metadata": {},
   "source": [
    "# DBSCAN clustering for each class"
   ]
  },
  {
   "cell_type": "code",
   "execution_count": 38,
   "metadata": {
    "ExecuteTime": {
     "end_time": "2020-09-24T07:53:56.222814Z",
     "start_time": "2020-09-24T07:53:56.217341Z"
    }
   },
   "outputs": [],
   "source": [
    "from sklearn.cluster import DBSCAN\n",
    "from sklearn import metrics"
   ]
  },
  {
   "cell_type": "code",
   "execution_count": 39,
   "metadata": {
    "ExecuteTime": {
     "end_time": "2020-09-24T07:55:04.095264Z",
     "start_time": "2020-09-24T07:55:04.054151Z"
    }
   },
   "outputs": [],
   "source": [
    "embeddings = torch.tensor(embeddings)"
   ]
  },
  {
   "cell_type": "code",
   "execution_count": null,
   "metadata": {
    "ExecuteTime": {
     "start_time": "2020-09-24T08:05:17.611Z"
    }
   },
   "outputs": [],
   "source": [
    "def cluster_label(label, df):\n",
    "    label_df = df[df.label == label]\n",
    "    label_embeddings = embeddings[label_df.index]\n",
    "    labels_true = [label] * len(label_df)\n",
    "    \n",
    "    distances = torch.cdist(label_embeddings, label_embeddings)\n",
    "\n",
    "    # Compute tSNE\n",
    "    tsne = TSNE(n_components=2,perplexity=30.0, n_iter=1000, metric='precomputed', init='random')\n",
    "    label_embeddings_tsne = tsne.fit_transform(label_embeddings)\n",
    "    \n",
    "    # Compute DBSCAN\n",
    "    db = DBSCAN(eps=0.5, metric='precomputed').fit(np.array(distances))\n",
    "    cluster_labels = db.labels_\n",
    "\n",
    "    core_samples_mask = np.zeros_like(db.labels_, dtype=bool)\n",
    "    core_samples_mask[db.core_sample_indices_] = True\n",
    "    # Number of clusters in labels, ignoring noise if present.\n",
    "    n_clusters_ = len(set(cluster_labels)) - (1 if -1 in cluster_labels else 0)\n",
    "    n_noise_ = list(cluster_labels).count(-1)\n",
    "\n",
    "    print('Estimated number of clusters: %d' % n_clusters_)\n",
    "    print('Estimated number of noise points: %d' % n_noise_)\n",
    "    print(\"Homogeneity: %0.3f\" % metrics.homogeneity_score(labels_true, cluster_labels))\n",
    "    print(\"Completeness: %0.3f\" % metrics.completeness_score(labels_true, cluster_labels))\n",
    "    print(\"V-measure: %0.3f\" % metrics.v_measure_score(labels_true, cluster_labels))\n",
    "    print(\"Adjusted Rand Index: %0.3f\"\n",
    "          % metrics.adjusted_rand_score(labels_true, cluster_labels))\n",
    "    print(\"Adjusted Mutual Information: %0.3f\"\n",
    "          % metrics.adjusted_mutual_info_score(labels_true, cluster_labels))\n",
    "\n",
    "    # Black removed and is used for noise instead.\n",
    "    unique_labels = set(cluster_labels)\n",
    "    colors = [plt.cm.Spectral(each)\n",
    "              for each in np.linspace(0, 1, len(unique_labels))]\n",
    "    for k, col in zip(unique_labels, colors):\n",
    "        if k == -1:\n",
    "            # Black used for noise.\n",
    "            col = [0, 0, 0, 1]\n",
    "\n",
    "        class_member_mask = (cluster_labels == k)\n",
    "\n",
    "        xy = label_embeddings_tsne[class_member_mask & core_samples_mask]\n",
    "        plt.plot(xy[:, 0], xy[:, 1], 'o', markerfacecolor=tuple(col),\n",
    "                 markeredgecolor='k', markersize=14)\n",
    "\n",
    "        xy = label_embeddings_tsne[class_member_mask & ~core_samples_mask]\n",
    "        plt.plot(xy[:, 0], xy[:, 1], 'o', markerfacecolor=tuple(col),\n",
    "                 markeredgecolor='k', markersize=6)\n",
    "\n",
    "    plt.title('Estimated number of clusters: %d' % n_clusters_)\n",
    "    plt.show()"
   ]
  },
  {
   "cell_type": "markdown",
   "metadata": {},
   "source": [
    "# Not used"
   ]
  }
 ],
 "metadata": {
  "kernelspec": {
   "display_name": "Python 3.6.9 64-bit",
   "language": "python",
   "name": "python36964bit9890b48dadda4b3ab35703e845f6f232"
  },
  "language_info": {
   "codemirror_mode": {
    "name": "ipython",
    "version": 3
   },
   "file_extension": ".py",
   "mimetype": "text/x-python",
   "name": "python",
   "nbconvert_exporter": "python",
   "pygments_lexer": "ipython3",
   "version": "3.6.9"
  }
 },
 "nbformat": 4,
 "nbformat_minor": 2
}
